{
 "cells": [
  {
   "cell_type": "markdown",
   "metadata": {},
   "source": [
    "Cleaning Data"
   ]
  },
  {
   "cell_type": "markdown",
   "metadata": {},
   "source": [
    "Import modules"
   ]
  },
  {
   "cell_type": "code",
   "execution_count": 1,
   "metadata": {},
   "outputs": [],
   "source": [
    "import numpy as np\n",
    "import pandas as pd"
   ]
  },
  {
   "cell_type": "code",
   "execution_count": 2,
   "metadata": {},
   "outputs": [],
   "source": [
    "train_raw = pd.read_csv('data/train.csv')\n",
    "test_raw = pd.read_csv('data/test.csv')"
   ]
  },
  {
   "cell_type": "code",
   "execution_count": 3,
   "metadata": {},
   "outputs": [
    {
     "name": "stderr",
     "output_type": "stream",
     "text": [
      "C:\\Users\\daniel_lee\\AppData\\Local\\Continuum\\anaconda3\\lib\\site-packages\\ipykernel_launcher.py:1: FutureWarning: Sorting because non-concatenation axis is not aligned. A future version\n",
      "of pandas will change to not sort by default.\n",
      "\n",
      "To accept the future behavior, pass 'sort=False'.\n",
      "\n",
      "To retain the current behavior and silence the warning, pass 'sort=True'.\n",
      "\n",
      "  \"\"\"Entry point for launching an IPython kernel.\n"
     ]
    }
   ],
   "source": [
    "data_raw = pd.concat([train_raw, test_raw], ignore_index = True, axis = 0)"
   ]
  },
  {
   "cell_type": "code",
   "execution_count": 4,
   "metadata": {},
   "outputs": [
    {
     "data": {
      "text/html": [
       "<div>\n",
       "<style scoped>\n",
       "    .dataframe tbody tr th:only-of-type {\n",
       "        vertical-align: middle;\n",
       "    }\n",
       "\n",
       "    .dataframe tbody tr th {\n",
       "        vertical-align: top;\n",
       "    }\n",
       "\n",
       "    .dataframe thead th {\n",
       "        text-align: right;\n",
       "    }\n",
       "</style>\n",
       "<table border=\"1\" class=\"dataframe\">\n",
       "  <thead>\n",
       "    <tr style=\"text-align: right;\">\n",
       "      <th></th>\n",
       "      <th>1stFlrSF</th>\n",
       "      <th>2ndFlrSF</th>\n",
       "      <th>3SsnPorch</th>\n",
       "      <th>Alley</th>\n",
       "      <th>BedroomAbvGr</th>\n",
       "      <th>BldgType</th>\n",
       "      <th>BsmtCond</th>\n",
       "      <th>BsmtExposure</th>\n",
       "      <th>BsmtFinSF1</th>\n",
       "      <th>BsmtFinSF2</th>\n",
       "      <th>...</th>\n",
       "      <th>SaleType</th>\n",
       "      <th>ScreenPorch</th>\n",
       "      <th>Street</th>\n",
       "      <th>TotRmsAbvGrd</th>\n",
       "      <th>TotalBsmtSF</th>\n",
       "      <th>Utilities</th>\n",
       "      <th>WoodDeckSF</th>\n",
       "      <th>YearBuilt</th>\n",
       "      <th>YearRemodAdd</th>\n",
       "      <th>YrSold</th>\n",
       "    </tr>\n",
       "  </thead>\n",
       "  <tbody>\n",
       "    <tr>\n",
       "      <th>0</th>\n",
       "      <td>856</td>\n",
       "      <td>854</td>\n",
       "      <td>0</td>\n",
       "      <td>NaN</td>\n",
       "      <td>3</td>\n",
       "      <td>1Fam</td>\n",
       "      <td>TA</td>\n",
       "      <td>No</td>\n",
       "      <td>706.0</td>\n",
       "      <td>0.0</td>\n",
       "      <td>...</td>\n",
       "      <td>WD</td>\n",
       "      <td>0</td>\n",
       "      <td>Pave</td>\n",
       "      <td>8</td>\n",
       "      <td>856.0</td>\n",
       "      <td>AllPub</td>\n",
       "      <td>0</td>\n",
       "      <td>2003</td>\n",
       "      <td>2003</td>\n",
       "      <td>2008</td>\n",
       "    </tr>\n",
       "    <tr>\n",
       "      <th>1</th>\n",
       "      <td>1262</td>\n",
       "      <td>0</td>\n",
       "      <td>0</td>\n",
       "      <td>NaN</td>\n",
       "      <td>3</td>\n",
       "      <td>1Fam</td>\n",
       "      <td>TA</td>\n",
       "      <td>Gd</td>\n",
       "      <td>978.0</td>\n",
       "      <td>0.0</td>\n",
       "      <td>...</td>\n",
       "      <td>WD</td>\n",
       "      <td>0</td>\n",
       "      <td>Pave</td>\n",
       "      <td>6</td>\n",
       "      <td>1262.0</td>\n",
       "      <td>AllPub</td>\n",
       "      <td>298</td>\n",
       "      <td>1976</td>\n",
       "      <td>1976</td>\n",
       "      <td>2007</td>\n",
       "    </tr>\n",
       "    <tr>\n",
       "      <th>2</th>\n",
       "      <td>920</td>\n",
       "      <td>866</td>\n",
       "      <td>0</td>\n",
       "      <td>NaN</td>\n",
       "      <td>3</td>\n",
       "      <td>1Fam</td>\n",
       "      <td>TA</td>\n",
       "      <td>Mn</td>\n",
       "      <td>486.0</td>\n",
       "      <td>0.0</td>\n",
       "      <td>...</td>\n",
       "      <td>WD</td>\n",
       "      <td>0</td>\n",
       "      <td>Pave</td>\n",
       "      <td>6</td>\n",
       "      <td>920.0</td>\n",
       "      <td>AllPub</td>\n",
       "      <td>0</td>\n",
       "      <td>2001</td>\n",
       "      <td>2002</td>\n",
       "      <td>2008</td>\n",
       "    </tr>\n",
       "    <tr>\n",
       "      <th>3</th>\n",
       "      <td>961</td>\n",
       "      <td>756</td>\n",
       "      <td>0</td>\n",
       "      <td>NaN</td>\n",
       "      <td>3</td>\n",
       "      <td>1Fam</td>\n",
       "      <td>Gd</td>\n",
       "      <td>No</td>\n",
       "      <td>216.0</td>\n",
       "      <td>0.0</td>\n",
       "      <td>...</td>\n",
       "      <td>WD</td>\n",
       "      <td>0</td>\n",
       "      <td>Pave</td>\n",
       "      <td>7</td>\n",
       "      <td>756.0</td>\n",
       "      <td>AllPub</td>\n",
       "      <td>0</td>\n",
       "      <td>1915</td>\n",
       "      <td>1970</td>\n",
       "      <td>2006</td>\n",
       "    </tr>\n",
       "    <tr>\n",
       "      <th>4</th>\n",
       "      <td>1145</td>\n",
       "      <td>1053</td>\n",
       "      <td>0</td>\n",
       "      <td>NaN</td>\n",
       "      <td>4</td>\n",
       "      <td>1Fam</td>\n",
       "      <td>TA</td>\n",
       "      <td>Av</td>\n",
       "      <td>655.0</td>\n",
       "      <td>0.0</td>\n",
       "      <td>...</td>\n",
       "      <td>WD</td>\n",
       "      <td>0</td>\n",
       "      <td>Pave</td>\n",
       "      <td>9</td>\n",
       "      <td>1145.0</td>\n",
       "      <td>AllPub</td>\n",
       "      <td>192</td>\n",
       "      <td>2000</td>\n",
       "      <td>2000</td>\n",
       "      <td>2008</td>\n",
       "    </tr>\n",
       "  </tbody>\n",
       "</table>\n",
       "<p>5 rows × 81 columns</p>\n",
       "</div>"
      ],
      "text/plain": [
       "   1stFlrSF  2ndFlrSF  3SsnPorch Alley  BedroomAbvGr BldgType BsmtCond  \\\n",
       "0       856       854          0   NaN             3     1Fam       TA   \n",
       "1      1262         0          0   NaN             3     1Fam       TA   \n",
       "2       920       866          0   NaN             3     1Fam       TA   \n",
       "3       961       756          0   NaN             3     1Fam       Gd   \n",
       "4      1145      1053          0   NaN             4     1Fam       TA   \n",
       "\n",
       "  BsmtExposure  BsmtFinSF1  BsmtFinSF2  ... SaleType ScreenPorch  Street  \\\n",
       "0           No       706.0         0.0  ...       WD           0    Pave   \n",
       "1           Gd       978.0         0.0  ...       WD           0    Pave   \n",
       "2           Mn       486.0         0.0  ...       WD           0    Pave   \n",
       "3           No       216.0         0.0  ...       WD           0    Pave   \n",
       "4           Av       655.0         0.0  ...       WD           0    Pave   \n",
       "\n",
       "   TotRmsAbvGrd TotalBsmtSF  Utilities WoodDeckSF YearBuilt YearRemodAdd  \\\n",
       "0             8       856.0     AllPub          0      2003         2003   \n",
       "1             6      1262.0     AllPub        298      1976         1976   \n",
       "2             6       920.0     AllPub          0      2001         2002   \n",
       "3             7       756.0     AllPub          0      1915         1970   \n",
       "4             9      1145.0     AllPub        192      2000         2000   \n",
       "\n",
       "  YrSold  \n",
       "0   2008  \n",
       "1   2007  \n",
       "2   2008  \n",
       "3   2006  \n",
       "4   2008  \n",
       "\n",
       "[5 rows x 81 columns]"
      ]
     },
     "execution_count": 4,
     "metadata": {},
     "output_type": "execute_result"
    }
   ],
   "source": [
    "data_raw.head()"
   ]
  },
  {
   "cell_type": "code",
   "execution_count": 5,
   "metadata": {},
   "outputs": [],
   "source": [
    "data = data_raw.set_index(['Id'])"
   ]
  },
  {
   "cell_type": "code",
   "execution_count": 6,
   "metadata": {
    "scrolled": true
   },
   "outputs": [
    {
     "data": {
      "text/html": [
       "<div>\n",
       "<style scoped>\n",
       "    .dataframe tbody tr th:only-of-type {\n",
       "        vertical-align: middle;\n",
       "    }\n",
       "\n",
       "    .dataframe tbody tr th {\n",
       "        vertical-align: top;\n",
       "    }\n",
       "\n",
       "    .dataframe thead th {\n",
       "        text-align: right;\n",
       "    }\n",
       "</style>\n",
       "<table border=\"1\" class=\"dataframe\">\n",
       "  <thead>\n",
       "    <tr style=\"text-align: right;\">\n",
       "      <th></th>\n",
       "      <th>1stFlrSF</th>\n",
       "      <th>2ndFlrSF</th>\n",
       "      <th>3SsnPorch</th>\n",
       "      <th>Alley</th>\n",
       "      <th>BedroomAbvGr</th>\n",
       "      <th>BldgType</th>\n",
       "      <th>BsmtCond</th>\n",
       "      <th>BsmtExposure</th>\n",
       "      <th>BsmtFinSF1</th>\n",
       "      <th>BsmtFinSF2</th>\n",
       "      <th>...</th>\n",
       "      <th>SaleType</th>\n",
       "      <th>ScreenPorch</th>\n",
       "      <th>Street</th>\n",
       "      <th>TotRmsAbvGrd</th>\n",
       "      <th>TotalBsmtSF</th>\n",
       "      <th>Utilities</th>\n",
       "      <th>WoodDeckSF</th>\n",
       "      <th>YearBuilt</th>\n",
       "      <th>YearRemodAdd</th>\n",
       "      <th>YrSold</th>\n",
       "    </tr>\n",
       "    <tr>\n",
       "      <th>Id</th>\n",
       "      <th></th>\n",
       "      <th></th>\n",
       "      <th></th>\n",
       "      <th></th>\n",
       "      <th></th>\n",
       "      <th></th>\n",
       "      <th></th>\n",
       "      <th></th>\n",
       "      <th></th>\n",
       "      <th></th>\n",
       "      <th></th>\n",
       "      <th></th>\n",
       "      <th></th>\n",
       "      <th></th>\n",
       "      <th></th>\n",
       "      <th></th>\n",
       "      <th></th>\n",
       "      <th></th>\n",
       "      <th></th>\n",
       "      <th></th>\n",
       "      <th></th>\n",
       "    </tr>\n",
       "  </thead>\n",
       "  <tbody>\n",
       "    <tr>\n",
       "      <th>1</th>\n",
       "      <td>856</td>\n",
       "      <td>854</td>\n",
       "      <td>0</td>\n",
       "      <td>NaN</td>\n",
       "      <td>3</td>\n",
       "      <td>1Fam</td>\n",
       "      <td>TA</td>\n",
       "      <td>No</td>\n",
       "      <td>706.0</td>\n",
       "      <td>0.0</td>\n",
       "      <td>...</td>\n",
       "      <td>WD</td>\n",
       "      <td>0</td>\n",
       "      <td>Pave</td>\n",
       "      <td>8</td>\n",
       "      <td>856.0</td>\n",
       "      <td>AllPub</td>\n",
       "      <td>0</td>\n",
       "      <td>2003</td>\n",
       "      <td>2003</td>\n",
       "      <td>2008</td>\n",
       "    </tr>\n",
       "    <tr>\n",
       "      <th>2</th>\n",
       "      <td>1262</td>\n",
       "      <td>0</td>\n",
       "      <td>0</td>\n",
       "      <td>NaN</td>\n",
       "      <td>3</td>\n",
       "      <td>1Fam</td>\n",
       "      <td>TA</td>\n",
       "      <td>Gd</td>\n",
       "      <td>978.0</td>\n",
       "      <td>0.0</td>\n",
       "      <td>...</td>\n",
       "      <td>WD</td>\n",
       "      <td>0</td>\n",
       "      <td>Pave</td>\n",
       "      <td>6</td>\n",
       "      <td>1262.0</td>\n",
       "      <td>AllPub</td>\n",
       "      <td>298</td>\n",
       "      <td>1976</td>\n",
       "      <td>1976</td>\n",
       "      <td>2007</td>\n",
       "    </tr>\n",
       "    <tr>\n",
       "      <th>3</th>\n",
       "      <td>920</td>\n",
       "      <td>866</td>\n",
       "      <td>0</td>\n",
       "      <td>NaN</td>\n",
       "      <td>3</td>\n",
       "      <td>1Fam</td>\n",
       "      <td>TA</td>\n",
       "      <td>Mn</td>\n",
       "      <td>486.0</td>\n",
       "      <td>0.0</td>\n",
       "      <td>...</td>\n",
       "      <td>WD</td>\n",
       "      <td>0</td>\n",
       "      <td>Pave</td>\n",
       "      <td>6</td>\n",
       "      <td>920.0</td>\n",
       "      <td>AllPub</td>\n",
       "      <td>0</td>\n",
       "      <td>2001</td>\n",
       "      <td>2002</td>\n",
       "      <td>2008</td>\n",
       "    </tr>\n",
       "    <tr>\n",
       "      <th>4</th>\n",
       "      <td>961</td>\n",
       "      <td>756</td>\n",
       "      <td>0</td>\n",
       "      <td>NaN</td>\n",
       "      <td>3</td>\n",
       "      <td>1Fam</td>\n",
       "      <td>Gd</td>\n",
       "      <td>No</td>\n",
       "      <td>216.0</td>\n",
       "      <td>0.0</td>\n",
       "      <td>...</td>\n",
       "      <td>WD</td>\n",
       "      <td>0</td>\n",
       "      <td>Pave</td>\n",
       "      <td>7</td>\n",
       "      <td>756.0</td>\n",
       "      <td>AllPub</td>\n",
       "      <td>0</td>\n",
       "      <td>1915</td>\n",
       "      <td>1970</td>\n",
       "      <td>2006</td>\n",
       "    </tr>\n",
       "    <tr>\n",
       "      <th>5</th>\n",
       "      <td>1145</td>\n",
       "      <td>1053</td>\n",
       "      <td>0</td>\n",
       "      <td>NaN</td>\n",
       "      <td>4</td>\n",
       "      <td>1Fam</td>\n",
       "      <td>TA</td>\n",
       "      <td>Av</td>\n",
       "      <td>655.0</td>\n",
       "      <td>0.0</td>\n",
       "      <td>...</td>\n",
       "      <td>WD</td>\n",
       "      <td>0</td>\n",
       "      <td>Pave</td>\n",
       "      <td>9</td>\n",
       "      <td>1145.0</td>\n",
       "      <td>AllPub</td>\n",
       "      <td>192</td>\n",
       "      <td>2000</td>\n",
       "      <td>2000</td>\n",
       "      <td>2008</td>\n",
       "    </tr>\n",
       "  </tbody>\n",
       "</table>\n",
       "<p>5 rows × 80 columns</p>\n",
       "</div>"
      ],
      "text/plain": [
       "    1stFlrSF  2ndFlrSF  3SsnPorch Alley  BedroomAbvGr BldgType BsmtCond  \\\n",
       "Id                                                                        \n",
       "1        856       854          0   NaN             3     1Fam       TA   \n",
       "2       1262         0          0   NaN             3     1Fam       TA   \n",
       "3        920       866          0   NaN             3     1Fam       TA   \n",
       "4        961       756          0   NaN             3     1Fam       Gd   \n",
       "5       1145      1053          0   NaN             4     1Fam       TA   \n",
       "\n",
       "   BsmtExposure  BsmtFinSF1  BsmtFinSF2  ... SaleType ScreenPorch  Street  \\\n",
       "Id                                       ...                                \n",
       "1            No       706.0         0.0  ...       WD           0    Pave   \n",
       "2            Gd       978.0         0.0  ...       WD           0    Pave   \n",
       "3            Mn       486.0         0.0  ...       WD           0    Pave   \n",
       "4            No       216.0         0.0  ...       WD           0    Pave   \n",
       "5            Av       655.0         0.0  ...       WD           0    Pave   \n",
       "\n",
       "    TotRmsAbvGrd TotalBsmtSF  Utilities WoodDeckSF YearBuilt YearRemodAdd  \\\n",
       "Id                                                                          \n",
       "1              8       856.0     AllPub          0      2003         2003   \n",
       "2              6      1262.0     AllPub        298      1976         1976   \n",
       "3              6       920.0     AllPub          0      2001         2002   \n",
       "4              7       756.0     AllPub          0      1915         1970   \n",
       "5              9      1145.0     AllPub        192      2000         2000   \n",
       "\n",
       "   YrSold  \n",
       "Id         \n",
       "1    2008  \n",
       "2    2007  \n",
       "3    2008  \n",
       "4    2006  \n",
       "5    2008  \n",
       "\n",
       "[5 rows x 80 columns]"
      ]
     },
     "execution_count": 6,
     "metadata": {},
     "output_type": "execute_result"
    }
   ],
   "source": [
    "data.head()"
   ]
  },
  {
   "cell_type": "code",
   "execution_count": 7,
   "metadata": {},
   "outputs": [],
   "source": [
    "count_nan = {}\n",
    "for col in data.columns.values:\n",
    "    count_nan[col] = data[col].isna().sum()\n",
    "nan_df = pd.DataFrame.from_dict(list(count_nan.items()))\n",
    "nan_df.rename(columns = {0: 'DType', 1: 'NaN Count'}, inplace = True)\n",
    "nan_df['Missing %'] = round(nan_df['NaN Count']/len(data) * 100, 2)"
   ]
  },
  {
   "cell_type": "code",
   "execution_count": 8,
   "metadata": {},
   "outputs": [
    {
     "name": "stdout",
     "output_type": "stream",
     "text": [
      "            DType  NaN Count  Missing %\n",
      "0        1stFlrSF          0       0.00\n",
      "1        2ndFlrSF          0       0.00\n",
      "2       3SsnPorch          0       0.00\n",
      "3           Alley       2721      93.22\n",
      "4    BedroomAbvGr          0       0.00\n",
      "5        BldgType          0       0.00\n",
      "6        BsmtCond         82       2.81\n",
      "7    BsmtExposure         82       2.81\n",
      "8      BsmtFinSF1          1       0.03\n",
      "9      BsmtFinSF2          1       0.03\n",
      "10   BsmtFinType1         79       2.71\n",
      "11   BsmtFinType2         80       2.74\n",
      "12   BsmtFullBath          2       0.07\n",
      "13   BsmtHalfBath          2       0.07\n",
      "14       BsmtQual         81       2.77\n",
      "15      BsmtUnfSF          1       0.03\n",
      "16     CentralAir          0       0.00\n",
      "17     Condition1          0       0.00\n",
      "18     Condition2          0       0.00\n",
      "19     Electrical          1       0.03\n",
      "20  EnclosedPorch          0       0.00\n",
      "21      ExterCond          0       0.00\n",
      "22      ExterQual          0       0.00\n",
      "23    Exterior1st          1       0.03\n",
      "24    Exterior2nd          1       0.03\n",
      "25          Fence       2348      80.44\n",
      "26    FireplaceQu       1420      48.65\n",
      "27     Fireplaces          0       0.00\n",
      "28     Foundation          0       0.00\n",
      "29       FullBath          0       0.00\n",
      "30     Functional          2       0.07\n",
      "31     GarageArea          1       0.03\n",
      "32     GarageCars          1       0.03\n",
      "33     GarageCond        159       5.45\n",
      "34   GarageFinish        159       5.45\n",
      "35     GarageQual        159       5.45\n",
      "36     GarageType        157       5.38\n",
      "37    GarageYrBlt        159       5.45\n",
      "38      GrLivArea          0       0.00\n",
      "39       HalfBath          0       0.00\n",
      "40        Heating          0       0.00\n",
      "41      HeatingQC          0       0.00\n",
      "42     HouseStyle          0       0.00\n",
      "43   KitchenAbvGr          0       0.00\n",
      "44    KitchenQual          1       0.03\n",
      "45    LandContour          0       0.00\n",
      "46      LandSlope          0       0.00\n",
      "47        LotArea          0       0.00\n",
      "48      LotConfig          0       0.00\n",
      "49    LotFrontage        486      16.65\n",
      "50       LotShape          0       0.00\n",
      "51   LowQualFinSF          0       0.00\n",
      "52     MSSubClass          0       0.00\n",
      "53       MSZoning          4       0.14\n",
      "54     MasVnrArea         23       0.79\n",
      "55     MasVnrType         24       0.82\n",
      "56    MiscFeature       2814      96.40\n",
      "57        MiscVal          0       0.00\n",
      "58         MoSold          0       0.00\n",
      "59   Neighborhood          0       0.00\n",
      "60    OpenPorchSF          0       0.00\n",
      "61    OverallCond          0       0.00\n",
      "62    OverallQual          0       0.00\n",
      "63     PavedDrive          0       0.00\n",
      "64       PoolArea          0       0.00\n",
      "65         PoolQC       2909      99.66\n",
      "66       RoofMatl          0       0.00\n",
      "67      RoofStyle          0       0.00\n",
      "68  SaleCondition          0       0.00\n",
      "69      SalePrice       1459      49.98\n",
      "70       SaleType          1       0.03\n",
      "71    ScreenPorch          0       0.00\n",
      "72         Street          0       0.00\n",
      "73   TotRmsAbvGrd          0       0.00\n",
      "74    TotalBsmtSF          1       0.03\n",
      "75      Utilities          2       0.07\n",
      "76     WoodDeckSF          0       0.00\n",
      "77      YearBuilt          0       0.00\n",
      "78   YearRemodAdd          0       0.00\n",
      "79         YrSold          0       0.00\n"
     ]
    }
   ],
   "source": [
    "print(nan_df.to_string())"
   ]
  },
  {
   "cell_type": "markdown",
   "metadata": {},
   "source": [
    "The dataset is mostly complete, there are a few columns such as Alley, Fence, MiscFeature, and PoolQC that are very incomplete with a lot of NaNs (80%+ incomplete). We will probably drop these columns except for Fence. Before we delete them though, let's if there's anything usable in them."
   ]
  },
  {
   "cell_type": "code",
   "execution_count": 9,
   "metadata": {},
   "outputs": [
    {
     "data": {
      "text/plain": [
       "Gd    4\n",
       "Ex    4\n",
       "Fa    2\n",
       "Name: PoolQC, dtype: int64"
      ]
     },
     "execution_count": 9,
     "metadata": {},
     "output_type": "execute_result"
    }
   ],
   "source": [
    "data['PoolQC'].value_counts()"
   ]
  },
  {
   "cell_type": "markdown",
   "metadata": {},
   "source": [
    "There's a whoopping 10 data points in a data set of almost 3000. Probably best to drop it."
   ]
  },
  {
   "cell_type": "code",
   "execution_count": 10,
   "metadata": {},
   "outputs": [],
   "source": [
    "data.drop('PoolQC', inplace = True, axis = 1)"
   ]
  },
  {
   "cell_type": "code",
   "execution_count": 11,
   "metadata": {},
   "outputs": [
    {
     "data": {
      "text/plain": [
       "Grvl    120\n",
       "Pave     78\n",
       "Name: Alley, dtype: int64"
      ]
     },
     "execution_count": 11,
     "metadata": {},
     "output_type": "execute_result"
    }
   ],
   "source": [
    "data['Alley'].value_counts()"
   ]
  },
  {
   "cell_type": "code",
   "execution_count": 12,
   "metadata": {},
   "outputs": [
    {
     "data": {
      "text/plain": [
       "MnPrv    329\n",
       "GdPrv    118\n",
       "GdWo     112\n",
       "MnWw      12\n",
       "Name: Fence, dtype: int64"
      ]
     },
     "execution_count": 12,
     "metadata": {},
     "output_type": "execute_result"
    }
   ],
   "source": [
    "data['Fence'].value_counts()"
   ]
  },
  {
   "cell_type": "code",
   "execution_count": 13,
   "metadata": {},
   "outputs": [
    {
     "data": {
      "text/plain": [
       "Shed    95\n",
       "Gar2     5\n",
       "Othr     4\n",
       "TenC     1\n",
       "Name: MiscFeature, dtype: int64"
      ]
     },
     "execution_count": 13,
     "metadata": {},
     "output_type": "execute_result"
    }
   ],
   "source": [
    "data['MiscFeature'].value_counts()"
   ]
  },
  {
   "cell_type": "markdown",
   "metadata": {},
   "source": [
    "For the Fence data point, an 'NA' datapoint was replaced by pandas with 'NaN'. The 'NA' identifier means that the property has no fence. To avoid confusion, we will fill these with a more readable point."
   ]
  },
  {
   "cell_type": "code",
   "execution_count": 14,
   "metadata": {},
   "outputs": [],
   "source": [
    "data['Fence'].fillna('NoFence', inplace = True)"
   ]
  },
  {
   "cell_type": "code",
   "execution_count": 15,
   "metadata": {},
   "outputs": [],
   "source": [
    "data['Alley'].fillna('NoAlley', inplace = True)"
   ]
  },
  {
   "cell_type": "code",
   "execution_count": 16,
   "metadata": {},
   "outputs": [],
   "source": [
    "data['MiscFeature'].fillna('None', inplace = True)"
   ]
  },
  {
   "cell_type": "code",
   "execution_count": 17,
   "metadata": {},
   "outputs": [
    {
     "data": {
      "text/plain": [
       "0.48989557038716697"
      ]
     },
     "execution_count": 17,
     "metadata": {},
     "output_type": "execute_result"
    }
   ],
   "source": [
    "data['LotArea'].corr(data['LotFrontage'])"
   ]
  },
  {
   "cell_type": "markdown",
   "metadata": {},
   "source": [
    "We want to fill the missing LotFrontage variables, and it seems there are around 4 categories that describe the lot, so we will create a new dataframe"
   ]
  },
  {
   "cell_type": "code",
   "execution_count": 18,
   "metadata": {},
   "outputs": [],
   "source": [
    "lot_df = data[['LotArea', 'LotShape', 'LotFrontage', 'LotConfig']].copy()\n",
    "lot_df = lot_df[lot_df.LotFrontage.notnull()]"
   ]
  },
  {
   "cell_type": "code",
   "execution_count": 19,
   "metadata": {},
   "outputs": [
    {
     "data": {
      "text/plain": [
       "Reg    1727\n",
       "IR1     647\n",
       "IR2      48\n",
       "IR3      11\n",
       "Name: LotShape, dtype: int64"
      ]
     },
     "execution_count": 19,
     "metadata": {},
     "output_type": "execute_result"
    }
   ],
   "source": [
    "lot_df['LotShape'].value_counts()"
   ]
  },
  {
   "cell_type": "code",
   "execution_count": 20,
   "metadata": {},
   "outputs": [
    {
     "data": {
      "text/plain": [
       "Inside     1862\n",
       "Corner      407\n",
       "CulDSac      89\n",
       "FR2          65\n",
       "FR3          10\n",
       "Name: LotConfig, dtype: int64"
      ]
     },
     "execution_count": 20,
     "metadata": {},
     "output_type": "execute_result"
    }
   ],
   "source": [
    "lot_df['LotConfig'].value_counts()"
   ]
  },
  {
   "cell_type": "code",
   "execution_count": 21,
   "metadata": {},
   "outputs": [
    {
     "data": {
      "text/html": [
       "<div>\n",
       "<style scoped>\n",
       "    .dataframe tbody tr th:only-of-type {\n",
       "        vertical-align: middle;\n",
       "    }\n",
       "\n",
       "    .dataframe tbody tr th {\n",
       "        vertical-align: top;\n",
       "    }\n",
       "\n",
       "    .dataframe thead th {\n",
       "        text-align: right;\n",
       "    }\n",
       "</style>\n",
       "<table border=\"1\" class=\"dataframe\">\n",
       "  <thead>\n",
       "    <tr style=\"text-align: right;\">\n",
       "      <th></th>\n",
       "      <th>LotArea</th>\n",
       "      <th>LotShape</th>\n",
       "      <th>LotFrontage</th>\n",
       "      <th>LotConfig</th>\n",
       "    </tr>\n",
       "    <tr>\n",
       "      <th>Id</th>\n",
       "      <th></th>\n",
       "      <th></th>\n",
       "      <th></th>\n",
       "      <th></th>\n",
       "    </tr>\n",
       "  </thead>\n",
       "  <tbody>\n",
       "    <tr>\n",
       "      <th>1</th>\n",
       "      <td>1</td>\n",
       "      <td>1</td>\n",
       "      <td>1</td>\n",
       "      <td>1</td>\n",
       "    </tr>\n",
       "    <tr>\n",
       "      <th>2</th>\n",
       "      <td>2</td>\n",
       "      <td>1</td>\n",
       "      <td>2</td>\n",
       "      <td>2</td>\n",
       "    </tr>\n",
       "    <tr>\n",
       "      <th>3</th>\n",
       "      <td>3</td>\n",
       "      <td>2</td>\n",
       "      <td>3</td>\n",
       "      <td>1</td>\n",
       "    </tr>\n",
       "    <tr>\n",
       "      <th>4</th>\n",
       "      <td>4</td>\n",
       "      <td>2</td>\n",
       "      <td>4</td>\n",
       "      <td>3</td>\n",
       "    </tr>\n",
       "    <tr>\n",
       "      <th>5</th>\n",
       "      <td>5</td>\n",
       "      <td>2</td>\n",
       "      <td>5</td>\n",
       "      <td>2</td>\n",
       "    </tr>\n",
       "    <tr>\n",
       "      <th>...</th>\n",
       "      <td>...</td>\n",
       "      <td>...</td>\n",
       "      <td>...</td>\n",
       "      <td>...</td>\n",
       "    </tr>\n",
       "    <tr>\n",
       "      <th>2915</th>\n",
       "      <td>450</td>\n",
       "      <td>1</td>\n",
       "      <td>36</td>\n",
       "      <td>1</td>\n",
       "    </tr>\n",
       "    <tr>\n",
       "      <th>2916</th>\n",
       "      <td>1596</td>\n",
       "      <td>1</td>\n",
       "      <td>36</td>\n",
       "      <td>1</td>\n",
       "    </tr>\n",
       "    <tr>\n",
       "      <th>2917</th>\n",
       "      <td>1597</td>\n",
       "      <td>1</td>\n",
       "      <td>106</td>\n",
       "      <td>1</td>\n",
       "    </tr>\n",
       "    <tr>\n",
       "      <th>2918</th>\n",
       "      <td>1598</td>\n",
       "      <td>1</td>\n",
       "      <td>57</td>\n",
       "      <td>1</td>\n",
       "    </tr>\n",
       "    <tr>\n",
       "      <th>2919</th>\n",
       "      <td>1215</td>\n",
       "      <td>1</td>\n",
       "      <td>22</td>\n",
       "      <td>1</td>\n",
       "    </tr>\n",
       "  </tbody>\n",
       "</table>\n",
       "<p>2433 rows × 4 columns</p>\n",
       "</div>"
      ],
      "text/plain": [
       "      LotArea  LotShape  LotFrontage  LotConfig\n",
       "Id                                             \n",
       "1           1         1            1          1\n",
       "2           2         1            2          2\n",
       "3           3         2            3          1\n",
       "4           4         2            4          3\n",
       "5           5         2            5          2\n",
       "...       ...       ...          ...        ...\n",
       "2915      450         1           36          1\n",
       "2916     1596         1           36          1\n",
       "2917     1597         1          106          1\n",
       "2918     1598         1           57          1\n",
       "2919     1215         1           22          1\n",
       "\n",
       "[2433 rows x 4 columns]"
      ]
     },
     "execution_count": 21,
     "metadata": {},
     "output_type": "execute_result"
    }
   ],
   "source": [
    "lot_df.apply(lambda x : pd.factorize(x)[0])+1"
   ]
  },
  {
   "cell_type": "code",
   "execution_count": 22,
   "metadata": {},
   "outputs": [],
   "source": [
    "from scipy.stats import stats"
   ]
  },
  {
   "cell_type": "code",
   "execution_count": 23,
   "metadata": {},
   "outputs": [
    {
     "name": "stdout",
     "output_type": "stream",
     "text": [
      "The F score for the LotShape variable is 37.466\n"
     ]
    }
   ],
   "source": [
    "F, p = stats.f_oneway(lot_df[lot_df.LotShape == 'Reg'].LotFrontage,\n",
    "                      lot_df[lot_df.LotShape == 'IR1'].LotFrontage,\n",
    "                      lot_df[lot_df.LotShape == 'IR2'].LotFrontage,\n",
    "                      lot_df[lot_df.LotShape == 'IR3'].LotFrontage)\n",
    "print('The F score for the LotShape variable is ' + str(round(F, 3)))"
   ]
  },
  {
   "cell_type": "markdown",
   "metadata": {},
   "source": [
    "The F Score is 37.466, which indicates there is a reasonable amount of correlation between the shape of the lot and the frontage."
   ]
  },
  {
   "cell_type": "code",
   "execution_count": 24,
   "metadata": {},
   "outputs": [
    {
     "name": "stdout",
     "output_type": "stream",
     "text": [
      "The F score for the LotConfig variable is 49.689\n"
     ]
    }
   ],
   "source": [
    "F, p = stats.f_oneway(lot_df[lot_df.LotConfig == 'Corner'].LotFrontage,\n",
    "                      lot_df[lot_df.LotConfig == 'CulDSac'].LotFrontage,\n",
    "                      lot_df[lot_df.LotConfig == 'FR2'].LotFrontage,\n",
    "                      lot_df[lot_df.LotConfig == 'FR3'].LotFrontage,\n",
    "                      lot_df[lot_df.LotConfig == 'Inside'].LotFrontage)\n",
    "print('The F score for the LotConfig variable is ' + str(round(F, 3)))"
   ]
  },
  {
   "cell_type": "markdown",
   "metadata": {},
   "source": [
    "The F Score is 49.689, which indicates there is an even higher amount of correlation between the configuration of the lot and the frontage. This makes the most sense as the configuration of the lot in regards to the street will have a significant effect of how much frontage there is. "
   ]
  },
  {
   "cell_type": "markdown",
   "metadata": {},
   "source": [
    "Running Regressions on this the LotFrontage variable: Using One-Hot"
   ]
  },
  {
   "cell_type": "code",
   "execution_count": 25,
   "metadata": {},
   "outputs": [],
   "source": [
    "from sklearn import linear_model"
   ]
  },
  {
   "cell_type": "code",
   "execution_count": 26,
   "metadata": {},
   "outputs": [],
   "source": [
    "lot_df = data[['LotArea', 'LotShape', 'LotFrontage', 'LotConfig']].copy()\n",
    "lot_df = pd.get_dummies(lot_df, columns = ['LotConfig'], prefix = 'Lc')\n",
    "lot_df = pd.get_dummies(lot_df, columns = ['LotShape'], prefix = 'Ls')"
   ]
  },
  {
   "cell_type": "code",
   "execution_count": 27,
   "metadata": {},
   "outputs": [],
   "source": [
    "parameters = [x for x in lot_df.columns.values if x != 'LotFrontage']"
   ]
  },
  {
   "cell_type": "code",
   "execution_count": 28,
   "metadata": {},
   "outputs": [
    {
     "data": {
      "text/plain": [
       "LinearRegression(copy_X=True, fit_intercept=True, n_jobs=None, normalize=False)"
      ]
     },
     "execution_count": 28,
     "metadata": {},
     "output_type": "execute_result"
    }
   ],
   "source": [
    "lot_model = linear_model.LinearRegression()\n",
    "lot_model.fit(X = lot_df[lot_df.LotFrontage.notnull()][parameters], y = lot_df[lot_df.LotFrontage.notnull()]['LotFrontage'])"
   ]
  },
  {
   "cell_type": "code",
   "execution_count": 29,
   "metadata": {},
   "outputs": [],
   "source": [
    "lot_df.loc[lot_df['LotFrontage'].isnull(), 'LotFrontage'] = lot_model.predict(lot_df[parameters])[lot_df['LotFrontage'].isnull()]"
   ]
  },
  {
   "cell_type": "code",
   "execution_count": 30,
   "metadata": {},
   "outputs": [],
   "source": [
    "lot_df['LotFrontage'] = round(lot_df['LotFrontage'], 0)"
   ]
  },
  {
   "cell_type": "code",
   "execution_count": 31,
   "metadata": {},
   "outputs": [],
   "source": [
    "data['LotFrontage'] = lot_df['LotFrontage']"
   ]
  },
  {
   "cell_type": "code",
   "execution_count": 32,
   "metadata": {},
   "outputs": [],
   "source": [
    "count_nan = {}\n",
    "for col in data.columns.values:\n",
    "    count_nan[col] = data[col].isna().sum()\n",
    "nan_df = pd.DataFrame.from_dict(list(count_nan.items()))\n",
    "nan_df.rename(columns = {0: 'DType', 1: 'NaN Count'}, inplace = True)\n",
    "nan_df['Missing %'] = round(nan_df['NaN Count']/len(data) * 100, 2)\n",
    "nan_df.to_csv('nan_tracker.csv')"
   ]
  },
  {
   "cell_type": "markdown",
   "metadata": {},
   "source": [
    "Checking the value counts for the next variable set: Basement Details\n",
    "\n",
    "The \"Nan\" values are actually indicators that the house does not have a basement"
   ]
  },
  {
   "cell_type": "code",
   "execution_count": 33,
   "metadata": {},
   "outputs": [
    {
     "data": {
      "text/plain": [
       "TA    2606\n",
       "Gd     122\n",
       "Fa     104\n",
       "Po       5\n",
       "Name: BsmtCond, dtype: int64"
      ]
     },
     "execution_count": 33,
     "metadata": {},
     "output_type": "execute_result"
    }
   ],
   "source": [
    "data['BsmtCond'].value_counts()"
   ]
  },
  {
   "cell_type": "code",
   "execution_count": 34,
   "metadata": {},
   "outputs": [
    {
     "data": {
      "text/plain": [
       "No    1904\n",
       "Av     418\n",
       "Gd     276\n",
       "Mn     239\n",
       "Name: BsmtExposure, dtype: int64"
      ]
     },
     "execution_count": 34,
     "metadata": {},
     "output_type": "execute_result"
    }
   ],
   "source": [
    "data['BsmtExposure'].value_counts()"
   ]
  },
  {
   "cell_type": "code",
   "execution_count": 35,
   "metadata": {},
   "outputs": [],
   "source": [
    "data['BsmtCond'].fillna('NoBs',inplace = True)\n",
    "data['BsmtExposure'].fillna('NoBs', inplace = True)"
   ]
  },
  {
   "cell_type": "code",
   "execution_count": 36,
   "metadata": {},
   "outputs": [
    {
     "data": {
      "text/plain": [
       "2918"
      ]
     },
     "execution_count": 36,
     "metadata": {},
     "output_type": "execute_result"
    }
   ],
   "source": [
    "data['BsmtFinSF1'].value_counts().sum()"
   ]
  },
  {
   "cell_type": "markdown",
   "metadata": {},
   "source": [
    "The single missing value in the BsmtFinSF1 and SF2 columns are an entry in the test set. After looking at it, it appears that it doesn't have a basement, so fillna will work nicely here. "
   ]
  },
  {
   "cell_type": "code",
   "execution_count": 37,
   "metadata": {},
   "outputs": [],
   "source": [
    "data['BsmtFinSF1'].fillna(0, inplace = True)\n",
    "data['BsmtFinSF2'].fillna(0, inplace = True)\n",
    "data['BsmtUnfSF'].fillna(0, inplace = True)"
   ]
  },
  {
   "cell_type": "code",
   "execution_count": 38,
   "metadata": {},
   "outputs": [],
   "source": [
    "data['BsmtFinType1'].fillna('NoBs', inplace = True)\n",
    "data['BsmtFinType2'].fillna('NoBs', inplace = True)\n",
    "data['BsmtFullBath'].fillna(0, inplace = True)\n",
    "data['BsmtHalfBath'].fillna(0, inplace = True)\n",
    "data['BsmtQual'].fillna('NoBs', inplace = True)\n",
    "data['TotalBsmtSF'].fillna(0, inplace = True)"
   ]
  },
  {
   "cell_type": "code",
   "execution_count": 39,
   "metadata": {},
   "outputs": [],
   "source": [
    "data['Electrical'].fillna('SBrkr', inplace = True)"
   ]
  },
  {
   "cell_type": "code",
   "execution_count": 40,
   "metadata": {},
   "outputs": [
    {
     "data": {
      "text/plain": [
       "VinylSd    1025\n",
       "MetalSd     450\n",
       "HdBoard     442\n",
       "Wd Sdng     411\n",
       "Plywood     221\n",
       "CemntBd     126\n",
       "BrkFace      87\n",
       "WdShing      56\n",
       "AsbShng      44\n",
       "Stucco       43\n",
       "BrkComm       6\n",
       "CBlock        2\n",
       "AsphShn       2\n",
       "Stone         2\n",
       "ImStucc       1\n",
       "Name: Exterior1st, dtype: int64"
      ]
     },
     "execution_count": 40,
     "metadata": {},
     "output_type": "execute_result"
    }
   ],
   "source": [
    "data['Exterior1st'].value_counts()"
   ]
  },
  {
   "cell_type": "code",
   "execution_count": 41,
   "metadata": {},
   "outputs": [
    {
     "data": {
      "text/plain": [
       "Plywood    13\n",
       "Wd Sdng     4\n",
       "WdShing     2\n",
       "BrkComm     1\n",
       "HdBoard     1\n",
       "VinylSd     1\n",
       "Name: Exterior1st, dtype: int64"
      ]
     },
     "execution_count": 41,
     "metadata": {},
     "output_type": "execute_result"
    }
   ],
   "source": [
    "data[data['RoofMatl'] == 'Tar&Grv']['Exterior1st'].value_counts()"
   ]
  },
  {
   "cell_type": "markdown",
   "metadata": {},
   "source": [
    "There is one value missing in the Exterior1st and 2nd columns. By eyeballing, we can see that there's correlation between Exterior1st and Roof Material. Looking at the MsVnrType (Masonry Veneer Type) we can see that there is no masonry. Because most RoofMaterial that is made with Tr&Grv use plywood as the exterior, and the MsVnrType is \"None\" we will fill the NA with \"Plywood\""
   ]
  },
  {
   "cell_type": "code",
   "execution_count": 42,
   "metadata": {},
   "outputs": [],
   "source": [
    "data['Exterior1st'].fillna('Plywood',inplace= True)\n",
    "data['Exterior2nd'].fillna('Plywood',inplace= True)"
   ]
  },
  {
   "cell_type": "code",
   "execution_count": 43,
   "metadata": {},
   "outputs": [],
   "source": [
    "data['FireplaceQu'].fillna('NoFp', inplace = True)"
   ]
  },
  {
   "cell_type": "code",
   "execution_count": 44,
   "metadata": {},
   "outputs": [
    {
     "data": {
      "text/plain": [
       "Typ     2717\n",
       "Min2      70\n",
       "Min1      65\n",
       "Mod       35\n",
       "Maj1      19\n",
       "Maj2       9\n",
       "Sev        2\n",
       "Name: Functional, dtype: int64"
      ]
     },
     "execution_count": 44,
     "metadata": {},
     "output_type": "execute_result"
    }
   ],
   "source": [
    "data['Functional'].value_counts()"
   ]
  },
  {
   "cell_type": "markdown",
   "metadata": {},
   "source": [
    "Because the Functional column has two NA variables, we can deduce their functionality from other columns, such as KitchenQual and LowQualFinSF"
   ]
  },
  {
   "cell_type": "code",
   "execution_count": 45,
   "metadata": {},
   "outputs": [
    {
     "data": {
      "text/plain": [
       "Typ     59\n",
       "Mod      3\n",
       "Min1     2\n",
       "Min2     2\n",
       "Maj1     2\n",
       "Maj2     1\n",
       "Name: Functional, dtype: int64"
      ]
     },
     "execution_count": 45,
     "metadata": {},
     "output_type": "execute_result"
    }
   ],
   "source": [
    "data[data['KitchenQual'] == 'Fa']['Functional'].value_counts()"
   ]
  },
  {
   "cell_type": "code",
   "execution_count": 46,
   "metadata": {},
   "outputs": [
    {
     "data": {
      "text/plain": [
       "Typ    2\n",
       "Name: Functional, dtype: int64"
      ]
     },
     "execution_count": 46,
     "metadata": {},
     "output_type": "execute_result"
    }
   ],
   "source": [
    "data[data['HeatingQC'] == 'Po']['Functional'].value_counts()"
   ]
  },
  {
   "cell_type": "code",
   "execution_count": 47,
   "metadata": {},
   "outputs": [
    {
     "data": {
      "text/plain": [
       "Typ     162\n",
       "Min2      9\n",
       "Mod       7\n",
       "Min1      6\n",
       "Maj1      2\n",
       "Maj2      1\n",
       "Name: Functional, dtype: int64"
      ]
     },
     "execution_count": 47,
     "metadata": {},
     "output_type": "execute_result"
    }
   ],
   "source": [
    "data[data['Electrical'] == 'FuseA']['Functional'].value_counts()"
   ]
  },
  {
   "cell_type": "markdown",
   "metadata": {},
   "source": [
    "Based on how common the \"Typical\" functional column is despite the lower quality of other categories, we wil replace ID 2217 and 2474 with 'Typ'"
   ]
  },
  {
   "cell_type": "code",
   "execution_count": 48,
   "metadata": {},
   "outputs": [],
   "source": [
    "data['Functional'].fillna('Typ', inplace = True)"
   ]
  },
  {
   "cell_type": "markdown",
   "metadata": {},
   "source": [
    "The garage section is mostly straightforward with only one missing datapoint for ID 2577. It has a detached garage according to the GarageType column. Therefore,  we can estimate it based on the typical metrics of a Detached garage."
   ]
  },
  {
   "cell_type": "code",
   "execution_count": 49,
   "metadata": {},
   "outputs": [
    {
     "data": {
      "text/plain": [
       "399.5"
      ]
     },
     "execution_count": 49,
     "metadata": {},
     "output_type": "execute_result"
    }
   ],
   "source": [
    "data[data['GarageType'] == 'Detchd']['GarageArea'].median()"
   ]
  },
  {
   "cell_type": "code",
   "execution_count": 50,
   "metadata": {},
   "outputs": [
    {
     "data": {
      "text/plain": [
       "2.0"
      ]
     },
     "execution_count": 50,
     "metadata": {},
     "output_type": "execute_result"
    }
   ],
   "source": [
    "data[data['GarageType'] == 'Detchd']['GarageCars'].median()"
   ]
  },
  {
   "cell_type": "code",
   "execution_count": 51,
   "metadata": {},
   "outputs": [
    {
     "data": {
      "text/plain": [
       "1962.0"
      ]
     },
     "execution_count": 51,
     "metadata": {},
     "output_type": "execute_result"
    }
   ],
   "source": [
    "data[data['GarageType'] == 'Detchd']['GarageYrBlt'].median()"
   ]
  },
  {
   "cell_type": "code",
   "execution_count": 52,
   "metadata": {},
   "outputs": [
    {
     "data": {
      "text/plain": [
       "0    Unf\n",
       "dtype: object"
      ]
     },
     "execution_count": 52,
     "metadata": {},
     "output_type": "execute_result"
    }
   ],
   "source": [
    "data[data['GarageType'] == 'Detchd']['GarageFinish'].mode()"
   ]
  },
  {
   "cell_type": "code",
   "execution_count": 53,
   "metadata": {},
   "outputs": [
    {
     "data": {
      "text/plain": [
       "0    TA\n",
       "dtype: object"
      ]
     },
     "execution_count": 53,
     "metadata": {},
     "output_type": "execute_result"
    }
   ],
   "source": [
    "data[data['GarageType'] == 'Detchd']['GarageQual'].mode()"
   ]
  },
  {
   "cell_type": "code",
   "execution_count": 54,
   "metadata": {},
   "outputs": [
    {
     "data": {
      "text/plain": [
       "0    TA\n",
       "dtype: object"
      ]
     },
     "execution_count": 54,
     "metadata": {},
     "output_type": "execute_result"
    }
   ],
   "source": [
    "data[data['GarageType'] == 'Detchd']['GarageCond'].mode()"
   ]
  },
  {
   "cell_type": "code",
   "execution_count": 55,
   "metadata": {},
   "outputs": [],
   "source": [
    "data['GarageArea'].fillna(data[data['GarageType'] == 'Detchd']['GarageArea'].median(), inplace = True)\n",
    "data['GarageCars'].fillna(data[data['GarageType'] == 'Detchd']['GarageCars'].median(), inplace = True)"
   ]
  },
  {
   "cell_type": "code",
   "execution_count": 56,
   "metadata": {},
   "outputs": [
    {
     "name": "stderr",
     "output_type": "stream",
     "text": [
      "C:\\Users\\daniel_lee\\AppData\\Local\\Continuum\\anaconda3\\lib\\site-packages\\pandas\\core\\generic.py:6287: SettingWithCopyWarning: \n",
      "A value is trying to be set on a copy of a slice from a DataFrame\n",
      "\n",
      "See the caveats in the documentation: http://pandas.pydata.org/pandas-docs/stable/user_guide/indexing.html#returning-a-view-versus-a-copy\n",
      "  self._update_inplace(new_data)\n"
     ]
    }
   ],
   "source": [
    "data[data['GarageArea'] == 399.5]['GarageYrBlt'].fillna(data[data['GarageType'] == 'Detchd']['GarageYrBlt'].median(), inplace = True)"
   ]
  },
  {
   "cell_type": "raw",
   "metadata": {},
   "source": []
  },
  {
   "cell_type": "code",
   "execution_count": 57,
   "metadata": {},
   "outputs": [],
   "source": [
    "data[data['GarageArea'] == 399.5]['GarageQual'].fillna(data[data['GarageType'] == 'Detchd']['GarageQual'].mode(), inplace = True)"
   ]
  },
  {
   "cell_type": "code",
   "execution_count": 58,
   "metadata": {},
   "outputs": [],
   "source": [
    "data[data['GarageArea'] == 399.5]['GarageCond'].fillna(data[data['GarageType'] == 'Detchd']['GarageCond'].mode(), inplace = True)"
   ]
  },
  {
   "cell_type": "code",
   "execution_count": 59,
   "metadata": {},
   "outputs": [],
   "source": [
    "data[data['GarageArea'] == 399.5]['GarageFinish'].fillna(data[data['GarageType'] == 'Detchd']['GarageFinish'].mode(), inplace = True)"
   ]
  },
  {
   "cell_type": "code",
   "execution_count": 60,
   "metadata": {},
   "outputs": [],
   "source": [
    "garage_parameters = ['GarageCond', 'GarageFinish', 'GarageQual', 'GarageType', 'GarageYrBlt']"
   ]
  },
  {
   "cell_type": "code",
   "execution_count": 61,
   "metadata": {},
   "outputs": [],
   "source": [
    "for col in garage_parameters:\n",
    "    data[col].fillna('NoGar', inplace = True)"
   ]
  },
  {
   "cell_type": "code",
   "execution_count": 62,
   "metadata": {},
   "outputs": [
    {
     "data": {
      "text/plain": [
       "TA    1492\n",
       "Gd    1151\n",
       "Ex     205\n",
       "Fa      70\n",
       "Name: KitchenQual, dtype: int64"
      ]
     },
     "execution_count": 62,
     "metadata": {},
     "output_type": "execute_result"
    }
   ],
   "source": [
    "data['KitchenQual'].value_counts()"
   ]
  },
  {
   "cell_type": "code",
   "execution_count": 63,
   "metadata": {},
   "outputs": [],
   "source": [
    "data['KitchenQual'].fillna('TA', inplace = True)"
   ]
  },
  {
   "cell_type": "code",
   "execution_count": 64,
   "metadata": {},
   "outputs": [
    {
     "data": {
      "text/plain": [
       "RL         2265\n",
       "RM          460\n",
       "FV          139\n",
       "RH           26\n",
       "C (all)      25\n",
       "Name: MSZoning, dtype: int64"
      ]
     },
     "execution_count": 64,
     "metadata": {},
     "output_type": "execute_result"
    }
   ],
   "source": [
    "data['MSZoning'].value_counts()"
   ]
  },
  {
   "cell_type": "markdown",
   "metadata": {},
   "source": [
    "From the NA values in the test set, there are four entries that are missing. We want to look at the characteristics of these houses compared to the average of the zoning type categories to deduce what the missing values might be.\n",
    "\n",
    "First we look at Lot Area, my  hypothesis is that higher density residential areas would have smaller lot areas:"
   ]
  },
  {
   "cell_type": "code",
   "execution_count": 65,
   "metadata": {},
   "outputs": [
    {
     "data": {
      "text/plain": [
       "10000.0"
      ]
     },
     "execution_count": 65,
     "metadata": {},
     "output_type": "execute_result"
    }
   ],
   "source": [
    "data[data['MSZoning'] == 'RL']['LotArea'].median()"
   ]
  },
  {
   "cell_type": "code",
   "execution_count": 66,
   "metadata": {},
   "outputs": [
    {
     "data": {
      "text/plain": [
       "11169.471964679911"
      ]
     },
     "execution_count": 66,
     "metadata": {},
     "output_type": "execute_result"
    }
   ],
   "source": [
    "data[data['MSZoning'] == 'RL']['LotArea'].mean()"
   ]
  },
  {
   "cell_type": "code",
   "execution_count": 67,
   "metadata": {},
   "outputs": [
    {
     "data": {
      "text/plain": [
       "1700"
      ]
     },
     "execution_count": 67,
     "metadata": {},
     "output_type": "execute_result"
    }
   ],
   "source": [
    "data[data['MSZoning'] == 'RL']['LotArea'].min()"
   ]
  },
  {
   "cell_type": "code",
   "execution_count": 68,
   "metadata": {},
   "outputs": [
    {
     "data": {
      "text/plain": [
       "215245"
      ]
     },
     "execution_count": 68,
     "metadata": {},
     "output_type": "execute_result"
    }
   ],
   "source": [
    "data[data['MSZoning'] == 'RL']['LotArea'].max()"
   ]
  },
  {
   "cell_type": "markdown",
   "metadata": {},
   "source": [
    "There is quite a bit of variance for the Low Residential Zoning Type (RL). Let's look at medium and high."
   ]
  },
  {
   "cell_type": "code",
   "execution_count": 69,
   "metadata": {},
   "outputs": [
    {
     "name": "stdout",
     "output_type": "stream",
     "text": [
      "Medium Density --- Median --- 6090.0\n",
      "Medium Density --- Mean --- 6400.239130434783\n",
      "Medium Density --- Min --- 1300\n",
      "Medium Density --- Max --- 33120\n"
     ]
    }
   ],
   "source": [
    "print('Medium Density --- Median --- ' + str(data[data['MSZoning'] == 'RM']['LotArea'].median()))\n",
    "print('Medium Density --- Mean --- ' + str(data[data['MSZoning'] == 'RM']['LotArea'].mean()))\n",
    "print('Medium Density --- Min --- ' + str(data[data['MSZoning'] == 'RM']['LotArea'].min()))\n",
    "print('Medium Density --- Max --- ' + str(data[data['MSZoning'] == 'RM']['LotArea'].max()))"
   ]
  },
  {
   "cell_type": "code",
   "execution_count": 70,
   "metadata": {},
   "outputs": [
    {
     "name": "stdout",
     "output_type": "stream",
     "text": [
      "High Density --- Median --- 7168.0\n",
      "High Density --- Mean --- 7506.461538461538\n",
      "High Density --- Min --- 4058\n",
      "High Density --- Max --- 12155\n"
     ]
    }
   ],
   "source": [
    "print('High Density --- Median --- ' + str(data[data['MSZoning'] == 'RH']['LotArea'].median()))\n",
    "print('High Density --- Mean --- ' + str(data[data['MSZoning'] == 'RH']['LotArea'].mean()))\n",
    "print('High Density --- Min --- ' + str(data[data['MSZoning'] == 'RH']['LotArea'].min()))\n",
    "print('High Density --- Max --- ' + str(data[data['MSZoning'] == 'RH']['LotArea'].max()))"
   ]
  },
  {
   "cell_type": "markdown",
   "metadata": {},
   "source": [
    "My hypothesis seems to be partially correct. However, a smaller lot size doesn't necessarily mean it's higher, medium, or lower density. There is also quite a bit of variance on the \"Low Density\" zoning. We should look at other variables before making an educated guess.\n",
    "\n",
    "We wil look at the Street paving, I would assume that a gravel road would mean that a residential area is less dense, and a paved road would mean more dense:"
   ]
  },
  {
   "cell_type": "code",
   "execution_count": 71,
   "metadata": {},
   "outputs": [
    {
     "name": "stdout",
     "output_type": "stream",
     "text": [
      "Pave    2261\n",
      "Grvl       4\n",
      "Name: Street, dtype: int64\n"
     ]
    }
   ],
   "source": [
    "print(data[data['MSZoning'] == 'RL']['Street'].value_counts())"
   ]
  },
  {
   "cell_type": "code",
   "execution_count": 72,
   "metadata": {},
   "outputs": [
    {
     "name": "stdout",
     "output_type": "stream",
     "text": [
      "Pave    458\n",
      "Grvl      2\n",
      "Name: Street, dtype: int64\n"
     ]
    }
   ],
   "source": [
    "print(data[data['MSZoning'] == 'RM']['Street'].value_counts())"
   ]
  },
  {
   "cell_type": "code",
   "execution_count": 73,
   "metadata": {},
   "outputs": [
    {
     "name": "stdout",
     "output_type": "stream",
     "text": [
      "Pave    26\n",
      "Name: Street, dtype: int64\n"
     ]
    }
   ],
   "source": [
    "print(data[data['MSZoning'] == 'RH']['Street'].value_counts())"
   ]
  },
  {
   "cell_type": "markdown",
   "metadata": {},
   "source": [
    "Damn, we're getting closer though! At least we can assume that a high residential zoning area would have a paved road. So we can assume that ID 1916 is not high density. "
   ]
  },
  {
   "cell_type": "code",
   "execution_count": 74,
   "metadata": {},
   "outputs": [
    {
     "name": "stdout",
     "output_type": "stream",
     "text": [
      "Low Density --- BldgType\n",
      "1Fam      0.886976\n",
      "TwnhsE    0.048565\n",
      "Duplex    0.040618\n",
      "2fmCon    0.013245\n",
      "Twnhs     0.010596\n",
      "Name: BldgType, dtype: float64\n",
      "Med Density --- BldgType\n",
      "1Fam      0.654348\n",
      "TwnhsE    0.147826\n",
      "Twnhs     0.115217\n",
      "2fmCon    0.054348\n",
      "Duplex    0.028261\n",
      "Name: BldgType, dtype: float64\n",
      "High Density --- BldgType\n",
      "1Fam      0.654348\n",
      "TwnhsE    0.147826\n",
      "Twnhs     0.115217\n",
      "2fmCon    0.054348\n",
      "Duplex    0.028261\n",
      "Name: BldgType, dtype: float64\n"
     ]
    }
   ],
   "source": [
    "print('Low Density --- BldgType')\n",
    "print(data[data['MSZoning'] == 'RL']['BldgType'].value_counts()/data[data['MSZoning'] == 'RL']['BldgType'].value_counts().sum())\n",
    "print('Med Density --- BldgType')\n",
    "print(data[data['MSZoning'] == 'RM']['BldgType'].value_counts()/data[data['MSZoning'] == 'RM']['BldgType'].value_counts().sum())\n",
    "print('High Density --- BldgType')\n",
    "print(data[data['MSZoning'] == 'RM']['BldgType'].value_counts()/data[data['MSZoning'] == 'RM']['BldgType'].value_counts().sum())"
   ]
  },
  {
   "cell_type": "markdown",
   "metadata": {},
   "source": [
    "Looking at the density based on building type, there seems to be a higher likelihood that townhouses and duplexes are med and high density zoning. A considerable amount of these zoning types still have single-family homes, so there's not much to deduce from this data point. Let's look at neighborhoods. Only two neighborhoods are showing up here \"IDOTRR\" and \"Mitchel\", so we can maybe look at these two neighboords to see their distribution. Houses in the same neighborhoods tend to have a similar zoning type:"
   ]
  },
  {
   "cell_type": "code",
   "execution_count": 75,
   "metadata": {},
   "outputs": [
    {
     "name": "stdout",
     "output_type": "stream",
     "text": [
      "IDOTRR --- Zoning Distribution\n",
      "RM         68\n",
      "C (all)    22\n",
      "Name: MSZoning, dtype: int64\n",
      "Mitchel --- Zoning Distribution\n",
      "RL    104\n",
      "RM      9\n",
      "Name: MSZoning, dtype: int64\n"
     ]
    }
   ],
   "source": [
    "print('IDOTRR --- Zoning Distribution')\n",
    "print(data[data['Neighborhood'] == 'IDOTRR']['MSZoning'].value_counts())\n",
    "print('Mitchel --- Zoning Distribution')\n",
    "print(data[data['Neighborhood'] == 'Mitchel']['MSZoning'].value_counts())"
   ]
  },
  {
   "cell_type": "markdown",
   "metadata": {},
   "source": [
    "As part of our due diligence, let's look at the neighborhoods and see what their distributions look like:"
   ]
  },
  {
   "cell_type": "code",
   "execution_count": 76,
   "metadata": {},
   "outputs": [],
   "source": [
    "import matplotlib.pyplot as plt\n",
    "import seaborn as sns"
   ]
  },
  {
   "cell_type": "code",
   "execution_count": 77,
   "metadata": {},
   "outputs": [
    {
     "name": "stdout",
     "output_type": "stream",
     "text": [
      "Neighborhood  MSZoning\n",
      "Blmngtn       RL                                                       3182\n",
      "              RM                                                       3072\n",
      "Blueste       RM                                                       3907\n",
      "BrDale        RM                                                       1680\n",
      "BrkSide       RL                                               [5000, 9144]\n",
      "              RM                                                       6000\n",
      "ClearCr       RL          [1700, 2887, 5271, 6930, 8816, 10005, 10029, 1...\n",
      "CollgCr       RL                                                       7200\n",
      "              RM                                                       4435\n",
      "Crawfor       RH                                               [6270, 7136]\n",
      "              RL                                                      15600\n",
      "              RM                                         [3811, 3842, 3843]\n",
      "Edwards       RH                                               [4270, 6629]\n",
      "              RL                                                       8777\n",
      "              RM                                                       3675\n",
      "Gilbert       RL                                              [7750, 10237]\n",
      "IDOTRR        C (all)                                          [8712, 9000]\n",
      "              RM                                                      10320\n",
      "MeadowV       RM                                               [1533, 2665]\n",
      "Mitchel       RL                                              [6600, 10125]\n",
      "              RM                                                       4500\n",
      "NAmes         RH               [4058, 4060, 4113, 5858, 8773, 10943, 11622]\n",
      "              RL                                                       9600\n",
      "NPkVill       RL                                                       2280\n",
      "NWAmes        RL                                                      10400\n",
      "NoRidge       RL                                       [9660, 11000, 11025]\n",
      "NridgHt       RL                                              [6240, 13891]\n",
      "              RM                                                       8198\n",
      "OldTown       C (all)                                          [3300, 7200]\n",
      "              RL                                                      10800\n",
      "              RM                                                       6000\n",
      "SWISU         C (all)                                                  6449\n",
      "              RH          [4500, 6048, 6300, 6430, 7082, 7200, 8525, 108...\n",
      "              RL                                                       8400\n",
      "Sawyer        RL                                              [9000, 11235]\n",
      "              RM                                         [8927, 8930, 9100]\n",
      "SawyerW       RH                                                       8400\n",
      "              RL                                              [7018, 13072]\n",
      "Somerst       FV                                                       8640\n",
      "              RL                                                      10206\n",
      "StoneBr       RL          [3696, 3701, 4671, 4740, 4920, 4923, 5005, 506...\n",
      "Timber        RL                                              [9802, 12633]\n",
      "Veenker       RL                                                       9600\n",
      "Name: LotArea, dtype: object\n",
      "Neighborhood  MSZoning\n",
      "Blmngtn       RL           3196.0\n",
      "              RM           3072.0\n",
      "Blueste       RM           1830.5\n",
      "BrDale        RM           1680.0\n",
      "BrkSide       RL           7420.0\n",
      "              RM           6120.0\n",
      "ClearCr       RL          15588.5\n",
      "CollgCr       RL           9750.0\n",
      "              RM           4435.0\n",
      "Crawfor       RH           6703.0\n",
      "              RL          11988.0\n",
      "              RM           3843.0\n",
      "Edwards       RH           5449.5\n",
      "              RL           9427.5\n",
      "              RM           3675.0\n",
      "Gilbert       RL           9729.0\n",
      "IDOTRR        C (all)      8616.0\n",
      "              RM           7483.5\n",
      "MeadowV       RM           1890.0\n",
      "Mitchel       RL          10444.0\n",
      "              RM           4500.0\n",
      "NAmes         RH           5858.0\n",
      "              RL           9501.5\n",
      "NPkVill       RL           2308.0\n",
      "NWAmes        RL          10928.0\n",
      "NoRidge       RL          11400.0\n",
      "NridgHt       RL          12099.0\n",
      "              RM           8198.0\n",
      "OldTown       C (all)      5250.0\n",
      "              RL          10284.0\n",
      "              RM           7685.0\n",
      "SWISU         C (all)      6449.0\n",
      "              RH           7082.0\n",
      "              RL           7200.0\n",
      "Sawyer        RL           9567.5\n",
      "              RM           8930.0\n",
      "SawyerW       RH           8650.0\n",
      "              RL           9554.0\n",
      "Somerst       FV           7379.0\n",
      "              RL          10130.0\n",
      "StoneBr       RL           8118.0\n",
      "Timber        RL          11848.0\n",
      "Veenker       RL          14512.0\n",
      "Name: LotArea, dtype: float64\n",
      "Neighborhood  MSZoning\n",
      "Blmngtn       RL           3403.920000\n",
      "              RM           3361.333333\n",
      "Blueste       RM           2346.500000\n",
      "BrDale        RM           1840.633333\n",
      "BrkSide       RL           8061.906977\n",
      "              RM           6230.676923\n",
      "ClearCr       RL          24842.250000\n",
      "CollgCr       RL          10285.308300\n",
      "              RM           4839.357143\n",
      "Crawfor       RH           6703.000000\n",
      "              RL          12548.461538\n",
      "              RM           4464.500000\n",
      "Edwards       RH           5449.500000\n",
      "              RL          10855.711111\n",
      "              RM           3670.583333\n",
      "Gilbert       RL          11342.369697\n",
      "IDOTRR        C (all)      8684.954545\n",
      "              RM           7894.544118\n",
      "MeadowV       RM           2109.027027\n",
      "Mitchel       RL          12373.038462\n",
      "              RM           5803.333333\n",
      "NAmes         RH           7061.000000\n",
      "              RL          10087.525229\n",
      "NPkVill       RL           2755.608696\n",
      "NWAmes        RL          11661.694656\n",
      "NoRidge       RL          12975.577465\n",
      "NridgHt       RL          11234.818182\n",
      "              RM           8198.000000\n",
      "OldTown       C (all)      5250.000000\n",
      "              RL           9421.000000\n",
      "              RM           8038.671717\n",
      "SWISU         C (all)      6449.000000\n",
      "              RH           7681.777778\n",
      "              RL           7630.342105\n",
      "Sawyer        RL          10399.952703\n",
      "              RM           8985.666667\n",
      "SawyerW       RH           8716.666667\n",
      "              RL          10227.781513\n",
      "Somerst       FV           6549.359712\n",
      "              RL          11041.441860\n",
      "StoneBr       RL          11383.392157\n",
      "Timber        RL          18233.541667\n",
      "Veenker       RL          15482.208333\n",
      "Name: LotArea, dtype: float64\n"
     ]
    }
   ],
   "source": [
    "data.groupby(['Neighborhood'])['MSZoning'].value_counts()\n",
    "print(data.groupby(['Neighborhood', 'MSZoning'])['LotArea'].agg(pd.Series.mode))\n",
    "print(data.groupby(['Neighborhood', 'MSZoning'])['LotArea'].agg(pd.Series.median))\n",
    "print(data.groupby(['Neighborhood', 'MSZoning'])['LotArea'].agg(pd.Series.mean))"
   ]
  },
  {
   "cell_type": "markdown",
   "metadata": {},
   "source": [
    "Looking at the neighborhoods, IDOTRR is unique because it has almost all the commercial district zoning in its distribution, and it has only medium residential and commercial zoning. Looking at the commercial district zoning:"
   ]
  },
  {
   "cell_type": "code",
   "execution_count": 78,
   "metadata": {
    "scrolled": true
   },
   "outputs": [
    {
     "name": "stderr",
     "output_type": "stream",
     "text": [
      "C:\\Users\\daniel_lee\\AppData\\Local\\Continuum\\anaconda3\\lib\\site-packages\\ipykernel_launcher.py:3: RuntimeWarning: More than 20 figures have been opened. Figures created through the pyplot interface (`matplotlib.pyplot.figure`) are retained until explicitly closed and may consume too much memory. (To control this warning, see the rcParam `figure.max_open_warning`).\n",
      "  This is separate from the ipykernel package so we can avoid doing imports until\n",
      "C:\\Users\\daniel_lee\\AppData\\Local\\Continuum\\anaconda3\\lib\\site-packages\\ipykernel_launcher.py:3: RuntimeWarning: More than 20 figures have been opened. Figures created through the pyplot interface (`matplotlib.pyplot.figure`) are retained until explicitly closed and may consume too much memory. (To control this warning, see the rcParam `figure.max_open_warning`).\n",
      "  This is separate from the ipykernel package so we can avoid doing imports until\n",
      "C:\\Users\\daniel_lee\\AppData\\Local\\Continuum\\anaconda3\\lib\\site-packages\\ipykernel_launcher.py:3: RuntimeWarning: More than 20 figures have been opened. Figures created through the pyplot interface (`matplotlib.pyplot.figure`) are retained until explicitly closed and may consume too much memory. (To control this warning, see the rcParam `figure.max_open_warning`).\n",
      "  This is separate from the ipykernel package so we can avoid doing imports until\n",
      "C:\\Users\\daniel_lee\\AppData\\Local\\Continuum\\anaconda3\\lib\\site-packages\\ipykernel_launcher.py:3: RuntimeWarning: More than 20 figures have been opened. Figures created through the pyplot interface (`matplotlib.pyplot.figure`) are retained until explicitly closed and may consume too much memory. (To control this warning, see the rcParam `figure.max_open_warning`).\n",
      "  This is separate from the ipykernel package so we can avoid doing imports until\n",
      "C:\\Users\\daniel_lee\\AppData\\Local\\Continuum\\anaconda3\\lib\\site-packages\\ipykernel_launcher.py:3: RuntimeWarning: More than 20 figures have been opened. Figures created through the pyplot interface (`matplotlib.pyplot.figure`) are retained until explicitly closed and may consume too much memory. (To control this warning, see the rcParam `figure.max_open_warning`).\n",
      "  This is separate from the ipykernel package so we can avoid doing imports until\n"
     ]
    },
    {
     "data": {
      "image/png": "[encoded data removed]",
      "text/plain": [
       "<Figure size 720x360 with 1 Axes>"
      ]
     },
     "metadata": {
      "needs_background": "light"
     },
     "output_type": "display_data"
    },
    {
     "data": {
      "image/png": "[encoded data removed]",
      "text/plain": [
       "<Figure size 720x360 with 1 Axes>"
      ]
     },
     "metadata": {
      "needs_background": "light"
     },
     "output_type": "display_data"
    },
    {
     "data": {
      "image/png": "[encoded data removed]",
      "text/plain": [
       "<Figure size 720x360 with 1 Axes>"
      ]
     },
     "metadata": {
      "needs_background": "light"
     },
     "output_type": "display_data"
    },
    {
     "data": {
      "image/png": "[encoded data removed]",
      "text/plain": [
       "<Figure size 720x360 with 1 Axes>"
      ]
     },
     "metadata": {
      "needs_background": "light"
     },
     "output_type": "display_data"
    },
    {
     "data": {
      "image/png": "[encoded data removed]",
      "text/plain": [
       "<Figure size 720x360 with 1 Axes>"
      ]
     },
     "metadata": {
      "needs_background": "light"
     },
     "output_type": "display_data"
    },
    {
     "data": {
      "image/png": "[encoded data removed]",
      "text/plain": [
       "<Figure size 720x360 with 1 Axes>"
      ]
     },
     "metadata": {
      "needs_background": "light"
     },
     "output_type": "display_data"
    },
    {
     "data": {
      "image/png": "[encoded data removed]",
      "text/plain": [
       "<Figure size 720x360 with 1 Axes>"
      ]
     },
     "metadata": {
      "needs_background": "light"
     },
     "output_type": "display_data"
    },
    {
     "data": {
      "image/png": "[encoded data removed]",
      "text/plain": [
       "<Figure size 720x360 with 1 Axes>"
      ]
     },
     "metadata": {
      "needs_background": "light"
     },
     "output_type": "display_data"
    },
    {
     "data": {
      "image/png": "[encoded data removed]",
      "text/plain": [
       "<Figure size 720x360 with 1 Axes>"
      ]
     },
     "metadata": {
      "needs_background": "light"
     },
     "output_type": "display_data"
    },
    {
     "data": {
      "image/png": "[encoded data removed]",
      "text/plain": [
       "<Figure size 720x360 with 1 Axes>"
      ]
     },
     "metadata": {
      "needs_background": "light"
     },
     "output_type": "display_data"
    },
    {
     "data": {
      "image/png": "[encoded data removed]",
      "text/plain": [
       "<Figure size 720x360 with 1 Axes>"
      ]
     },
     "metadata": {
      "needs_background": "light"
     },
     "output_type": "display_data"
    },
    {
     "data": {
      "image/png": "[encoded data removed]",
      "text/plain": [
       "<Figure size 720x360 with 1 Axes>"
      ]
     },
     "metadata": {
      "needs_background": "light"
     },
     "output_type": "display_data"
    },
    {
     "data": {
      "image/png": "[encoded data removed]",
      "text/plain": [
       "<Figure size 720x360 with 1 Axes>"
      ]
     },
     "metadata": {
      "needs_background": "light"
     },
     "output_type": "display_data"
    },
    {
     "data": {
      "image/png": "[encoded data removed]",
      "text/plain": [
       "<Figure size 720x360 with 1 Axes>"
      ]
     },
     "metadata": {
      "needs_background": "light"
     },
     "output_type": "display_data"
    },
    {
     "data": {
      "image/png": "[encoded data removed]",
      "text/plain": [
       "<Figure size 720x360 with 1 Axes>"
      ]
     },
     "metadata": {
      "needs_background": "light"
     },
     "output_type": "display_data"
    },
    {
     "data": {
      "image/png": "[encoded data removed]",
      "text/plain": [
       "<Figure size 720x360 with 1 Axes>"
      ]
     },
     "metadata": {
      "needs_background": "light"
     },
     "output_type": "display_data"
    },
    {
     "data": {
      "image/png": "[encoded data removed]",
      "text/plain": [
       "<Figure size 720x360 with 1 Axes>"
      ]
     },
     "metadata": {
      "needs_background": "light"
     },
     "output_type": "display_data"
    },
    {
     "data": {
      "image/png": "[encoded data removed]",
      "text/plain": [
       "<Figure size 720x360 with 1 Axes>"
      ]
     },
     "metadata": {
      "needs_background": "light"
     },
     "output_type": "display_data"
    },
    {
     "data": {
      "image/png": "[encoded data removed]",
      "text/plain": [
       "<Figure size 720x360 with 1 Axes>"
      ]
     },
     "metadata": {
      "needs_background": "light"
     },
     "output_type": "display_data"
    },
    {
     "data": {
      "image/png": "[encoded data removed]",
      "text/plain": [
       "<Figure size 720x360 with 1 Axes>"
      ]
     },
     "metadata": {
      "needs_background": "light"
     },
     "output_type": "display_data"
    },
    {
     "data": {
      "image/png": "[encoded data removed]",
      "text/plain": [
       "<Figure size 720x360 with 1 Axes>"
      ]
     },
     "metadata": {
      "needs_background": "light"
     },
     "output_type": "display_data"
    },
    {
     "data": {
      "image/png": "[encoded data removed]",
      "text/plain": [
       "<Figure size 720x360 with 1 Axes>"
      ]
     },
     "metadata": {
      "needs_background": "light"
     },
     "output_type": "display_data"
    },
    {
     "data": {
      "image/png": "[encoded data removed]",
      "text/plain": [
       "<Figure size 720x360 with 1 Axes>"
      ]
     },
     "metadata": {
      "needs_background": "light"
     },
     "output_type": "display_data"
    },
    {
     "data": {
      "image/png": "[encoded data removed]",
      "text/plain": [
       "<Figure size 720x360 with 1 Axes>"
      ]
     },
     "metadata": {
      "needs_background": "light"
     },
     "output_type": "display_data"
    },
    {
     "data": {
      "image/png": "[encoded data removed]",
      "text/plain": [
       "<Figure size 720x360 with 1 Axes>"
      ]
     },
     "metadata": {
      "needs_background": "light"
     },
     "output_type": "display_data"
    }
   ],
   "source": [
    "neighborhood_set = set(data['Neighborhood'].values.tolist())\n",
    "for item in neighborhood_set:\n",
    "    fig, ax = plt.subplots(1, 1, figsize = (10, 5))\n",
    "    temp_df = data[data['Neighborhood'] == item]\n",
    "    g1 = sns.boxplot(x = 'Neighborhood', y = 'LotArea', hue = 'MSZoning', data = temp_df, ax = ax)"
   ]
  },
  {
   "cell_type": "markdown",
   "metadata": {},
   "source": [
    "It's pretty clear that commercial zoning has a skew of its data towards larger lot-sizes. Looking at the missing values for MSZoning, these LotArea sizes are pretty large, two of which are above 20k in area. We have several conclusions we can draw from this data that we collected on the IDOTRR neighborhood: \n",
    "1. It is made up of all medium residential and commercial\n",
    "2. Some outlier plot sizes in this district are probably commercial spaces as the distribution has a higher median and larger outliers. However, only medium density residential has another datapoint where the LotArea metrics go as high as the outliers we see in IDOTRR\n",
    "We will replace all the NA with \"RM\" for now until we have evidence that says otherwise. "
   ]
  },
  {
   "cell_type": "code",
   "execution_count": 79,
   "metadata": {},
   "outputs": [],
   "source": [
    "data['MSZoning'].fillna('RM', inplace = True)"
   ]
  },
  {
   "cell_type": "markdown",
   "metadata": {},
   "source": [
    "Looking at the Masonry Veneer data:"
   ]
  },
  {
   "cell_type": "code",
   "execution_count": 80,
   "metadata": {},
   "outputs": [
    {
     "name": "stdout",
     "output_type": "stream",
     "text": [
      "Neighborhood  BldgType  Exterior1st  Exterior2nd  MasVnrType\n",
      "Blmngtn       1Fam      VinylSd      VinylSd      BrkFace         2\n",
      "                        WdShing      Wd Shng      BrkFace         1\n",
      "              TwnhsE    VinylSd      VinylSd      BrkFace        23\n",
      "                                                  None            1\n",
      "                        WdShing      Wd Shng      BrkFace         1\n",
      "Blueste       Twnhs     MetalSd      MetalSd      None            5\n",
      "              TwnhsE    HdBoard      HdBoard      None            3\n",
      "                        MetalSd      MetalSd      None            2\n",
      "BrDale        Twnhs     CemntBd      CmentBd      BrkFace         2\n",
      "                        HdBoard      HdBoard      BrkFace        21\n",
      "                                     ImStucc      BrkFace         1\n",
      "              TwnhsE    HdBoard      HdBoard      BrkFace         5\n",
      "                                                  None            1\n",
      "BrkSide       1Fam      AsbShng      AsbShng      None            6\n",
      "                                     Plywood      None            1\n",
      "                        BrkComm      Stucco       None            1\n",
      "                        BrkFace      Wd Sdng      None            1\n",
      "                        CemntBd      CmentBd      None            1\n",
      "                        HdBoard      HdBoard      None            3\n",
      "                        MetalSd      CBlock       None            1\n",
      "                                     MetalSd      None           30\n",
      "                                                  BrkCmn          1\n",
      "                                                  BrkFace         1\n",
      "                                                  Stone           1\n",
      "                                     VinylSd      None            1\n",
      "                        Plywood      Plywood      None            1\n",
      "                        Stucco       Stucco       BrkFace         1\n",
      "                                                  None            1\n",
      "                                     Wd Shng      None            1\n",
      "                        VinylSd      VinylSd      None            9\n",
      "                        Wd Sdng      Plywood      None            2\n",
      "                                     Wd Sdng      None           35\n",
      "                                     Wd Shng      None            3\n",
      "                        WdShing      Wd Shng      None            5\n",
      "              2fmCon    HdBoard      HdBoard      BrkFace         1\n",
      "                        MetalSd      MetalSd      None            1\n",
      "ClearCr       1Fam      BrkFace      AsbShng      None            1\n",
      "                                     Plywood      None            1\n",
      "                        HdBoard      HdBoard      BrkFace         3\n",
      "                                                  None            1\n",
      "                        MetalSd      MetalSd      None            2\n",
      "                                                  Stone           1\n",
      "                        Plywood      Plywood      None            9\n",
      "                                                  BrkFace         3\n",
      "                                                  Stone           2\n",
      "                        VinylSd      VinylSd      None            2\n",
      "                                                  BrkFace         1\n",
      "                        Wd Sdng      HdBoard      BrkCmn          1\n",
      "                                     ImStucc      BrkFace         1\n",
      "                                     Wd Sdng      None           10\n",
      "                                                  BrkFace         2\n",
      "                                                  BrkCmn          1\n",
      "                        WdShing      Plywood      None            1\n",
      "                                     Wd Shng      None            1\n",
      "              Twnhs     VinylSd      VinylSd      None            1\n",
      "CollgCr       1Fam      CemntBd      CmentBd      None            4\n",
      "                                                  Stone           2\n",
      "                                                  BrkFace         1\n",
      "                        HdBoard      HdBoard      BrkFace         9\n",
      "                                                  None            9\n",
      "                                     Plywood      None            3\n",
      "                                                  BrkFace         1\n",
      "                                     Wd Shng      None            1\n",
      "                        MetalSd      MetalSd      None            3\n",
      "                                                  BrkFace         1\n",
      "                        Plywood      HdBoard      None            1\n",
      "                                     Plywood      None            1\n",
      "                                     VinylSd      BrkFace         1\n",
      "                                     Wd Sdng      None            1\n",
      "                        Stucco       Stucco       None            1\n",
      "                        VinylSd      VinylSd      None          105\n",
      "                                                  BrkFace        80\n",
      "                                                  Stone          24\n",
      "                        Wd Sdng      Wd Sdng      None            1\n",
      "                        WdShing      HdBoard      None            1\n",
      "                                     Wd Shng      None            1\n",
      "              Duplex    VinylSd      VinylSd      None            1\n",
      "              TwnhsE    VinylSd      VinylSd      BrkFace        13\n",
      "Crawfor       1Fam      AsbShng      CmentBd      None            1\n",
      "                        BrkComm      Brk Cmn      None            1\n",
      "                        BrkFace      BrkFace      None            4\n",
      "                                     HdBoard      None            1\n",
      "                                     MetalSd      None            1\n",
      "                                     Stone        None            1\n",
      "                                     Stucco       None            1\n",
      "                                                  Stone           1\n",
      "                                     Wd Sdng      None            2\n",
      "                        CemntBd      CmentBd      BrkFace         1\n",
      "                                                  None            1\n",
      "                        HdBoard      BrkFace      None            1\n",
      "                                     HdBoard      BrkFace         1\n",
      "                                                  None            1\n",
      "                                                  Stone           1\n",
      "                                     Plywood      Stone           1\n",
      "                        MetalSd      MetalSd      None            8\n",
      "                                                  BrkFace         1\n",
      "                                     Stucco       None            1\n",
      "                        Plywood      Plywood      BrkFace         3\n",
      "                        Stone        Stone        None            1\n",
      "                        Stucco       Plywood      None            1\n",
      "                                     Stucco       None            4\n",
      "                                                  BrkFace         1\n",
      "                                     Wd Sdng      BrkFace         1\n",
      "                                     Wd Shng      None            1\n",
      "                        VinylSd      VinylSd      None            4\n",
      "                                                  BrkFace         3\n",
      "                        Wd Sdng      MetalSd      BrkFace         1\n",
      "                                     Plywood      None            2\n",
      "                                                  BrkFace         1\n",
      "                                     Stucco       None            1\n",
      "                                     Wd Sdng      None           21\n",
      "                                                  BrkFace         3\n",
      "                                     Wd Shng      None            4\n",
      "                        WdShing      Plywood      BrkFace         1\n",
      "                                                  None            1\n",
      "                                     Stucco       None            1\n",
      "                                     Wd Shng      None            1\n",
      "              2fmCon    MetalSd      MetalSd      BrkFace         1\n",
      "                        VinylSd      VinylSd      None            1\n",
      "              Duplex    MetalSd      MetalSd      BrkFace         1\n",
      "                                                  None            1\n",
      "                        VinylSd      VinylSd      BrkFace         1\n",
      "                        Wd Sdng      Wd Sdng      None            1\n",
      "              TwnhsE    CemntBd      CmentBd      Stone           9\n",
      "                        VinylSd      VinylSd      Stone           1\n",
      "Edwards       1Fam      AsbShng      AsbShng      None            4\n",
      "                        BrkComm      Brk Cmn      None            2\n",
      "                        BrkFace      Plywood      None            1\n",
      "                                     Wd Sdng      None            3\n",
      "                        CemntBd      CmentBd      Stone           3\n",
      "                        HdBoard      HdBoard      BrkFace         5\n",
      "                                                  None            4\n",
      "                                                  Stone           2\n",
      "                                     Plywood      BrkFace         4\n",
      "                                                  None            2\n",
      "                                     Stucco       BrkFace         1\n",
      "                        MetalSd      HdBoard      None            1\n",
      "                                     MetalSd      None           27\n",
      "                                                  Stone           2\n",
      "                                                  BrkFace         1\n",
      "                                     Wd Sdng      None            1\n",
      "                        Plywood      Plywood      None            9\n",
      "                                                  BrkFace         1\n",
      "                                                  Stone           1\n",
      "                        Stucco       Stucco       None            5\n",
      "                                                  Stone           1\n",
      "                        VinylSd      VinylSd      None           19\n",
      "                                                  Stone           3\n",
      "                                                  BrkCmn          1\n",
      "                                     Wd Sdng      None            1\n",
      "                        Wd Sdng      Plywood      None            1\n",
      "                                     VinylSd      None            1\n",
      "                                     Wd Sdng      None           35\n",
      "                                                  BrkFace         4\n",
      "                                                  Stone           1\n",
      "                        WdShing      Plywood      None            3\n",
      "                                     Wd Shng      None            8\n",
      "              2fmCon    MetalSd      MetalSd      None            3\n",
      "                        Wd Sdng      Wd Sdng      None            2\n",
      "              Duplex    AsbShng      Plywood      None            2\n",
      "                                                  BrkCmn          1\n",
      "                        AsphShn      AsphShn      None            1\n",
      "                        HdBoard      HdBoard      BrkFace         1\n",
      "                                                  None            1\n",
      "                        MetalSd      MetalSd      None            2\n",
      "                        Plywood      Plywood      None            5\n",
      "                                     Wd Shng      BrkFace         1\n",
      "                        VinylSd      VinylSd      BrkFace         2\n",
      "                        WdShing      Plywood      BrkFace         1\n",
      "                                     Wd Shng      BrkCmn          1\n",
      "              Twnhs     VinylSd      VinylSd      Stone           4\n",
      "              TwnhsE    HdBoard      HdBoard      BrkFace         1\n",
      "                        VinylSd      VinylSd      BrkFace         5\n",
      "                                                  Stone           2\n",
      "                        Wd Sdng      Wd Sdng      BrkFace         1\n",
      "Gilbert       1Fam      AsbShng      AsbShng      BrkFace         1\n",
      "                        BrkFace      BrkFace      None            1\n",
      "                        HdBoard      HdBoard      None           15\n",
      "                                                  BrkFace        13\n",
      "                                                  BrkCmn          1\n",
      "                                     Wd Sdng      BrkFace         1\n",
      "                        MetalSd      MetalSd      None            2\n",
      "                        Plywood      Plywood      None            1\n",
      "                        VinylSd      VinylSd      None           93\n",
      "                                                  BrkFace        23\n",
      "                                                  Stone           5\n",
      "                        Wd Sdng      Wd Sdng      None            1\n",
      "                        WdShing      Wd Shng      None            1\n",
      "              2fmCon    HdBoard      HdBoard      None            1\n",
      "                        Wd Sdng      Wd Sdng      None            1\n",
      "IDOTRR        1Fam      AsbShng      AsbShng      None            5\n",
      "                                     Plywood      None            1\n",
      "                                     VinylSd      None            1\n",
      "                        BrkFace      BrkFace      None            2\n",
      "                        CemntBd      CmentBd      None            1\n",
      "                        HdBoard      HdBoard      BrkFace         1\n",
      "                                                  None            1\n",
      "                                     Plywood      None            1\n",
      "                        MetalSd      MetalSd      None           26\n",
      "                                                  BrkFace         1\n",
      "                        Plywood      Plywood      None            3\n",
      "                        Stucco       Stucco       None            2\n",
      "                                                  BrkFace         1\n",
      "                                     Wd Shng      None            1\n",
      "                        VinylSd      VinylSd      None            9\n",
      "                        Wd Sdng      Plywood      None            1\n",
      "                                     Wd Sdng      None           26\n",
      "                                     Wd Shng      None            1\n",
      "                        WdShing      Wd Shng      BrkFace         1\n",
      "              2fmCon    AsphShn      AsphShn      None            1\n",
      "                        MetalSd      MetalSd      None            2\n",
      "                        VinylSd      VinylSd      None            1\n",
      "                                     Wd Shng      None            1\n",
      "                        Wd Sdng      Wd Sdng      None            1\n",
      "                        WdShing      Wd Shng      None            1\n",
      "              Duplex    Wd Sdng      Wd Sdng      None            1\n",
      "MeadowV       Twnhs     CemntBd      CmentBd      None           18\n",
      "                                                  BrkFace         1\n",
      "              TwnhsE    CemntBd      CmentBd      None           17\n",
      "                                                  BrkFace         1\n",
      "Mitchel       1Fam      BrkFace      BrkFace      None            1\n",
      "                        CBlock       VinylSd      None            1\n",
      "                        CemntBd      CmentBd      BrkFace         1\n",
      "                                                  None            1\n",
      "                        HdBoard      HdBoard      None           16\n",
      "                                                  BrkFace         8\n",
      "                                     ImStucc      None            1\n",
      "                                     Plywood      None            7\n",
      "                                     Wd Shng      None            4\n",
      "                        MetalSd      MetalSd      None            2\n",
      "                                                  BrkFace         1\n",
      "                        Plywood      HdBoard      None            2\n",
      "                                     ImStucc      None            1\n",
      "                                     Plywood      None           12\n",
      "                                                  BrkFace         4\n",
      "                                                  Stone           1\n",
      "                        VinylSd      VinylSd      None           24\n",
      "                                                  BrkFace         2\n",
      "                                                  Stone           1\n",
      "                        Wd Sdng      HdBoard      None            1\n",
      "              2fmCon    MetalSd      MetalSd      Stone           1\n",
      "              Duplex    HdBoard      HdBoard      None            1\n",
      "                                     Plywood      None            1\n",
      "                        MetalSd      MetalSd      BrkFace         1\n",
      "                                     Wd Shng      None            1\n",
      "                        Plywood      ImStucc      BrkFace         1\n",
      "                                     Plywood      None            7\n",
      "                        VinylSd      VinylSd      BrkFace         3\n",
      "              Twnhs     VinylSd      VinylSd      BrkFace         1\n",
      "              TwnhsE    VinylSd      VinylSd      BrkFace         5\n",
      "NAmes         1Fam      AsbShng      AsbShng      None            3\n",
      "                                                  BrkFace         1\n",
      "                        BrkComm      Brk Cmn      None            1\n",
      "                                     Wd Sdng      None            1\n",
      "                        BrkFace      BrkFace      None           18\n",
      "                                     HdBoard      None            1\n",
      "                                     MetalSd      None            1\n",
      "                                     Plywood      None            5\n",
      "                                                  Stone           1\n",
      "                                     Wd Sdng      None            8\n",
      "                        CemntBd      CmentBd      None            1\n",
      "                                                  Stone           1\n",
      "                        HdBoard      HdBoard      BrkFace        35\n",
      "                                                  None           30\n",
      "                                                  Stone           6\n",
      "                                                  BrkCmn          3\n",
      "                                     MetalSd      None            1\n",
      "                                     Plywood      BrkFace         3\n",
      "                                                  None            2\n",
      "                        MetalSd      AsphShn      BrkFace         1\n",
      "                                     HdBoard      BrkFace         2\n",
      "                                     MetalSd      None           66\n",
      "                                                  BrkFace        29\n",
      "                                                  Stone           3\n",
      "                                                  BrkCmn          1\n",
      "                        Plywood      Plywood      BrkFace        13\n",
      "                                                  None           11\n",
      "                                                  BrkCmn          2\n",
      "                                                  Stone           1\n",
      "                                     Wd Sdng      BrkFace         1\n",
      "                                                  None            1\n",
      "                        Stucco       Stucco       None            1\n",
      "                        VinylSd      MetalSd      None            1\n",
      "                                     Plywood      None            1\n",
      "                                     VinylSd      None           26\n",
      "                                                  BrkFace        12\n",
      "                                                  BrkCmn          1\n",
      "                                                  Stone           1\n",
      "                                     Wd Sdng      None            1\n",
      "                        Wd Sdng      BrkFace      None            1\n",
      "                                     HdBoard      BrkFace         1\n",
      "                                                  None            1\n",
      "                                     MetalSd      None            1\n",
      "                                     Plywood      BrkFace         2\n",
      "                                                  Stone           1\n",
      "                                     VinylSd      None            1\n",
      "                                     Wd Sdng      BrkFace        39\n",
      "                                                  None           39\n",
      "                                                  Stone           4\n",
      "                                                  BrkCmn          3\n",
      "                        WdShing      Wd Shng      None            8\n",
      "                                                  BrkFace         2\n",
      "                                                  BrkCmn          1\n",
      "              2fmCon    BrkFace      VinylSd      None            1\n",
      "                        HdBoard      HdBoard      BrkFace         1\n",
      "                        MetalSd      MetalSd      None            2\n",
      "              Duplex    AsbShng      AsbShng      Stone           1\n",
      "                        BrkFace      BrkFace      None            3\n",
      "                                     Stone        None            2\n",
      "                                     Wd Sdng      None            1\n",
      "                        HdBoard      HdBoard      None            4\n",
      "                                                  BrkFace         3\n",
      "                        MetalSd      MetalSd      BrkFace         3\n",
      "                                                  None            2\n",
      "                                                  Stone           1\n",
      "                        Plywood      Plywood      None            2\n",
      "                                                  BrkFace         1\n",
      "                        Stucco       Stone        None            1\n",
      "                                     Stucco       BrkFace         1\n",
      "                        VinylSd      VinylSd      None            2\n",
      "                                                  BrkFace         1\n",
      "                        Wd Sdng      Wd Sdng      BrkFace         2\n",
      "                                                  None            1\n",
      "                                                  Stone           1\n",
      "              TwnhsE    MetalSd      MetalSd      None            5\n",
      "                                                  BrkFace         1\n",
      "NPkVill       Twnhs     Plywood      Brk Cmn      None           11\n",
      "              TwnhsE    Plywood      Brk Cmn      None            7\n",
      "                                     Plywood      None            5\n",
      "NWAmes        1Fam      BrkFace      BrkFace      None            2\n",
      "                                     HdBoard      None            1\n",
      "                                     Wd Sdng      None            1\n",
      "                        CemntBd      CmentBd      BrkFace         1\n",
      "                                                  Stone           1\n",
      "                        HdBoard      AsphShn      BrkFace         1\n",
      "                                     HdBoard      BrkFace        36\n",
      "                                                  None           11\n",
      "                                                  Stone           1\n",
      "                                     Plywood      BrkFace         2\n",
      "                                                  None            1\n",
      "                        MetalSd      MetalSd      BrkFace         9\n",
      "                                                  None            5\n",
      "                        Plywood      Plywood      BrkFace        26\n",
      "                                                  None            4\n",
      "                                                  Stone           3\n",
      "                                     Wd Sdng      BrkFace         1\n",
      "                        VinylSd      VinylSd      BrkFace         7\n",
      "                                                  None            7\n",
      "                                     Wd Shng      Stone           1\n",
      "                        Wd Sdng      Wd Sdng      None            2\n",
      "                                                  BrkFace         1\n",
      "                        WdShing      HdBoard      BrkFace         1\n",
      "                                     Plywood      BrkFace         1\n",
      "                                                  None            1\n",
      "              2fmCon    Plywood      Plywood      BrkFace         1\n",
      "              Duplex    MetalSd      MetalSd      None            1\n",
      "                        Plywood      Plywood      BrkFace         1\n",
      "                        VinylSd      VinylSd      BrkFace         1\n",
      "NoRidge       1Fam      BrkFace      BrkFace      None            1\n",
      "                        HdBoard      HdBoard      BrkFace        11\n",
      "                                                  None            3\n",
      "                                     ImStucc      BrkFace         3\n",
      "                        ImStucc      ImStucc      None            1\n",
      "                        MetalSd      MetalSd      BrkFace         3\n",
      "                                                  None            2\n",
      "                        VinylSd      VinylSd      BrkFace        40\n",
      "                                                  None            2\n",
      "                        Wd Sdng      ImStucc      BrkFace         1\n",
      "                                                  None            1\n",
      "                                     Wd Sdng      BrkFace         3\n",
      "NridgHt       1Fam      CemntBd      CmentBd      BrkFace        10\n",
      "                                                  Stone           4\n",
      "                        MetalSd      MetalSd      BrkFace         4\n",
      "                                                  Stone           3\n",
      "                        VinylSd      VinylSd      BrkFace        46\n",
      "                                                  Stone          43\n",
      "                                                  None            7\n",
      "                        WdShing      Wd Shng      Stone           1\n",
      "              Twnhs     VinylSd      VinylSd      Stone           8\n",
      "                                     Wd Shng      Stone           4\n",
      "              TwnhsE    MetalSd      MetalSd      BrkFace        17\n",
      "                        VinylSd      VinylSd      Stone          14\n",
      "                                                  BrkFace         1\n",
      "                                     Wd Shng      Stone           2\n",
      "OldTown       1Fam      AsbShng      AsbShng      None           11\n",
      "                                     Stucco       None            1\n",
      "                                     Wd Sdng      None            1\n",
      "                        BrkFace      BrkFace      None            2\n",
      "                                     Wd Sdng      None            2\n",
      "                                     Wd Shng      None            1\n",
      "                        CBlock       CBlock       None            1\n",
      "                        CemntBd      CmentBd      None            2\n",
      "                        HdBoard      HdBoard      None            3\n",
      "                        MetalSd      MetalSd      None           60\n",
      "                                                  BrkFace         3\n",
      "                                                  Stone           2\n",
      "                                     Stucco       None            2\n",
      "                        Stucco       BrkFace      None            1\n",
      "                                     Stucco       None           12\n",
      "                                                  BrkCmn          1\n",
      "                                     Wd Sdng      None            1\n",
      "                                     Wd Shng      None            1\n",
      "                        VinylSd      VinylSd      None           36\n",
      "                                                  Stone           1\n",
      "                        Wd Sdng      HdBoard      None            2\n",
      "                                     VinylSd      None            1\n",
      "                                     Wd Sdng      None           51\n",
      "                                                  BrkFace         1\n",
      "                                     Wd Shng      None            5\n",
      "                        WdShing      Wd Sdng      None            1\n",
      "                                     Wd Shng      None            3\n",
      "              2fmCon    AsbShng      AsbShng      None            3\n",
      "                        HdBoard      HdBoard      None            1\n",
      "                        MetalSd      MetalSd      None            9\n",
      "                                                  Stone           1\n",
      "                        VinylSd      AsbShng      None            1\n",
      "                        Wd Sdng      Wd Sdng      None           10\n",
      "              Duplex    MetalSd      MetalSd      BrkFace         1\n",
      "                                                  None            1\n",
      "                        Plywood      Plywood      None            1\n",
      "                        Wd Sdng      Wd Sdng      None            2\n",
      "                                                  BrkFace         1\n",
      "SWISU         1Fam      BrkFace      Wd Sdng      None            1\n",
      "                        MetalSd      MetalSd      None            6\n",
      "                                                  BrkFace         1\n",
      "                                     VinylSd      BrkFace         1\n",
      "                                     Wd Sdng      None            1\n",
      "                        VinylSd      Stucco       None            1\n",
      "                                     VinylSd      None            5\n",
      "                        Wd Sdng      MetalSd      None            1\n",
      "                                     Plywood      None            1\n",
      "                                     Stucco       None            2\n",
      "                                     Wd Sdng      None           12\n",
      "                                                  BrkFace         1\n",
      "                                     Wd Shng      None            2\n",
      "                        WdShing      Plywood      None            1\n",
      "                                     Wd Shng      BrkFace         1\n",
      "                                                  None            1\n",
      "              2fmCon    Plywood      Plywood      None            1\n",
      "                        VinylSd      VinylSd      None            3\n",
      "                        Wd Sdng      Wd Sdng      None            2\n",
      "                                     Wd Shng      None            1\n",
      "              Duplex    Plywood      CBlock       None            1\n",
      "                        Stucco       Stucco       None            1\n",
      "                        Wd Sdng      Plywood      None            1\n",
      "Sawyer        1Fam      BrkFace      BrkFace      None            1\n",
      "                                     Wd Sdng      Stone           1\n",
      "                        CemntBd      CmentBd      None            1\n",
      "                                     Wd Sdng      None            1\n",
      "                        HdBoard      HdBoard      None           30\n",
      "                                                  BrkFace        14\n",
      "                                                  BrkCmn          3\n",
      "                                                  Stone           2\n",
      "                                     Plywood      None            7\n",
      "                                                  BrkFace         4\n",
      "                                     Wd Sdng      BrkFace         1\n",
      "                                                  None            1\n",
      "                        MetalSd      MetalSd      None            7\n",
      "                                                  BrkFace         3\n",
      "                        Plywood      HdBoard      BrkFace         1\n",
      "                                     Plywood      None            8\n",
      "                                                  BrkFace         6\n",
      "                                                  BrkCmn          1\n",
      "                        VinylSd      HdBoard      None            1\n",
      "                                     VinylSd      None           13\n",
      "                                                  BrkFace         2\n",
      "                                                  BrkCmn          1\n",
      "                        Wd Sdng      HdBoard      None            1\n",
      "                                     MetalSd      None            1\n",
      "                                     Plywood      None            4\n",
      "                                     Wd Sdng      None           12\n",
      "                                                  BrkFace         6\n",
      "                                                  BrkCmn          1\n",
      "              2fmCon    BrkFace      Stucco       None            1\n",
      "                        HdBoard      HdBoard      None            3\n",
      "                        Plywood      HdBoard      None            1\n",
      "              Duplex    BrkFace      BrkFace      None            1\n",
      "                        HdBoard      HdBoard      BrkFace         1\n",
      "                                                  None            1\n",
      "                        MetalSd      MetalSd      None            1\n",
      "                        Plywood      Plywood      None            4\n",
      "                                                  BrkFace         2\n",
      "                        VinylSd      VinylSd      None            2\n",
      "SawyerW       1Fam      HdBoard      HdBoard      BrkFace        14\n",
      "                                                  None           12\n",
      "                                     Plywood      BrkFace         1\n",
      "                                                  None            1\n",
      "                        MetalSd      MetalSd      BrkFace         1\n",
      "                        Plywood      Plywood      BrkFace         4\n",
      "                                                  None            1\n",
      "                        VinylSd      VinylSd      None           35\n",
      "                                                  BrkFace        19\n",
      "                                                  Stone           1\n",
      "                        Wd Sdng      AsbShng      None            1\n",
      "                                     Plywood      None            1\n",
      "                                     Wd Sdng      None            5\n",
      "                                                  BrkFace         2\n",
      "                                     Wd Shng      BrkFace         1\n",
      "              Duplex    HdBoard      HdBoard      None            5\n",
      "                        Plywood      Plywood      BrkFace         2\n",
      "                                                  None            2\n",
      "                                                  Stone           1\n",
      "                        VinylSd      VinylSd      BrkFace         3\n",
      "                        Wd Sdng      Wd Shng      None            1\n",
      "              TwnhsE    Plywood      ImStucc      None            2\n",
      "                                     Plywood      None            9\n",
      "Somerst       1Fam      CemntBd      CmentBd      None            9\n",
      "                                                  Stone           8\n",
      "                                                  BrkFace         1\n",
      "                        MetalSd      MetalSd      Stone           1\n",
      "                        VinylSd      ImStucc      Stone           1\n",
      "                                     VinylSd      None           46\n",
      "                                                  Stone          26\n",
      "                                                  BrkFace        18\n",
      "                                     Wd Shng      None            1\n",
      "                        Wd Sdng      Wd Sdng      None            1\n",
      "              Twnhs     MetalSd      MetalSd      BrkFace        10\n",
      "                                                  None            6\n",
      "                                                  Stone           1\n",
      "                        VinylSd      VinylSd      BrkFace         2\n",
      "              TwnhsE    BrkFace      MetalSd      None            1\n",
      "                        MetalSd      MetalSd      None           13\n",
      "                                                  BrkFace        11\n",
      "                        VinylSd      VinylSd      None            8\n",
      "                                                  Stone           6\n",
      "                                                  BrkFace         2\n",
      "StoneBr       1Fam      CemntBd      CmentBd      None            3\n",
      "                                                  BrkFace         2\n",
      "                                                  Stone           1\n",
      "                                     Wd Shng      BrkFace         1\n",
      "                        HdBoard      HdBoard      None            1\n",
      "                        MetalSd      MetalSd      BrkFace         1\n",
      "                        VinylSd      Other        BrkFace         1\n",
      "                                     VinylSd      BrkFace        10\n",
      "                                                  Stone           8\n",
      "              TwnhsE    CemntBd      CmentBd      None            9\n",
      "                        HdBoard      HdBoard      None           11\n",
      "                        MetalSd      MetalSd      BrkFace         3\n",
      "Timber        1Fam      BrkFace      BrkFace      None            1\n",
      "                        CemntBd      CmentBd      Stone           2\n",
      "                                                  BrkFace         1\n",
      "                        HdBoard      HdBoard      BrkFace         6\n",
      "                                                  None            1\n",
      "                        MetalSd      MetalSd      BrkFace         3\n",
      "                                                  None            2\n",
      "                        Plywood      HdBoard      BrkFace         1\n",
      "                                     Plywood      BrkFace         2\n",
      "                                                  None            2\n",
      "                        Stone        HdBoard      None            1\n",
      "                        Stucco       CmentBd      None            1\n",
      "                        VinylSd      Plywood      Stone           1\n",
      "                                     VinylSd      BrkFace        19\n",
      "                                                  None           14\n",
      "                                                  Stone           9\n",
      "                        Wd Sdng      Wd Sdng      BrkFace         1\n",
      "                                                  None            1\n",
      "              2fmCon    Plywood      Plywood      None            1\n",
      "              TwnhsE    VinylSd      VinylSd      BrkFace         2\n",
      "Veenker       1Fam      BrkFace      BrkFace      None            2\n",
      "                        HdBoard      HdBoard      BrkFace         1\n",
      "                                     ImStucc      BrkFace         1\n",
      "                        MetalSd      MetalSd      BrkFace         1\n",
      "                                                  None            1\n",
      "                        Plywood      Plywood      None            4\n",
      "                                                  BrkFace         2\n",
      "                        VinylSd      MetalSd      BrkFace         1\n",
      "                                     VinylSd      BrkFace         1\n",
      "                                                  None            1\n",
      "                        Wd Sdng      Wd Sdng      BrkFace         1\n",
      "                                                  None            1\n",
      "                        WdShing      Wd Sdng      BrkFace         1\n",
      "                                     Wd Shng      None            1\n",
      "              TwnhsE    BrkFace      BrkFace      None            5\n"
     ]
    }
   ],
   "source": [
    "print(data.groupby(['Neighborhood', 'BldgType', 'Exterior1st', 'Exterior2nd'])['MasVnrType'].value_counts().to_string())"
   ]
  },
  {
   "cell_type": "markdown",
   "metadata": {},
   "source": [
    "If the house is not a Single-Family home with VinylSd (i.e. townhouse, duplex), then it is significantly more likely to have some sort of masonry veneer. The single-family homes are slightly more likely to not have masonry. As a result, we will fill the NA values with \"None\" if it is a single family home, and \"Stone\" if it is a townhouse with VinylSd as the data suggests that townhouses with Vinyl Sides have Stone masonry."
   ]
  },
  {
   "cell_type": "code",
   "execution_count": 81,
   "metadata": {},
   "outputs": [
    {
     "name": "stderr",
     "output_type": "stream",
     "text": [
      "C:\\Users\\daniel_lee\\AppData\\Local\\Continuum\\anaconda3\\lib\\site-packages\\pandas\\core\\generic.py:6287: SettingWithCopyWarning: \n",
      "A value is trying to be set on a copy of a slice from a DataFrame\n",
      "\n",
      "See the caveats in the documentation: http://pandas.pydata.org/pandas-docs/stable/user_guide/indexing.html#returning-a-view-versus-a-copy\n",
      "  self._update_inplace(new_data)\n"
     ]
    }
   ],
   "source": [
    "data[data['BldgType'] == 'TwnhsE']['MasVnrType'].fillna('Stone', inplace = True)\n",
    "data[data['BldgType'] == 'TwnhsE']['MasVnrArea'].fillna(data[(data['BldgType'] == 'TwnhsE') & (data['Exterior1st'] == 'VinylSd')]['MasVnrArea'].mean(), inplace = True)"
   ]
  },
  {
   "cell_type": "code",
   "execution_count": 82,
   "metadata": {},
   "outputs": [],
   "source": [
    "data[data['Neighborhood'] == 'Mitchel']['MasVnrType'].fillna('BrkFace', inplace = True)"
   ]
  },
  {
   "cell_type": "code",
   "execution_count": 83,
   "metadata": {},
   "outputs": [],
   "source": [
    "data['MasVnrType'].fillna('None', inplace = True)"
   ]
  },
  {
   "cell_type": "code",
   "execution_count": 84,
   "metadata": {},
   "outputs": [],
   "source": [
    "data['MasVnrArea'].fillna(0, inplace = True)"
   ]
  },
  {
   "cell_type": "code",
   "execution_count": 85,
   "metadata": {},
   "outputs": [
    {
     "data": {
      "text/plain": [
       "None       1766\n",
       "BrkFace     879\n",
       "Stone       249\n",
       "BrkCmn       25\n",
       "Name: MasVnrType, dtype: int64"
      ]
     },
     "execution_count": 85,
     "metadata": {},
     "output_type": "execute_result"
    }
   ],
   "source": [
    "data['MasVnrType'].value_counts()"
   ]
  },
  {
   "cell_type": "code",
   "execution_count": 86,
   "metadata": {},
   "outputs": [],
   "source": [
    "data['SaleType'].fillna('WD', inplace = True)"
   ]
  },
  {
   "cell_type": "code",
   "execution_count": 87,
   "metadata": {},
   "outputs": [],
   "source": [
    "data['Utilities'].fillna('AllPub', inplace = True)"
   ]
  },
  {
   "cell_type": "code",
   "execution_count": 88,
   "metadata": {},
   "outputs": [],
   "source": [
    "data.to_csv('cleaned_data.csv')"
   ]
  },
  {
   "cell_type": "code",
   "execution_count": null,
   "metadata": {},
   "outputs": [],
   "source": []
  }
 ],
 "metadata": {
  "kernelspec": {
   "display_name": "Python 3",
   "language": "python",
   "name": "python3"
  },
  "language_info": {
   "codemirror_mode": {
    "name": "ipython",
    "version": 3
   },
   "file_extension": ".py",
   "mimetype": "text/x-python",
   "name": "python",
   "nbconvert_exporter": "python",
   "pygments_lexer": "ipython3",
   "version": "3.8.3"
  }
 },
 "nbformat": 4,
 "nbformat_minor": 2
}
