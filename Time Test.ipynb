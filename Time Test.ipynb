{
 "cells": [
  {
   "cell_type": "code",
   "execution_count": 27,
   "metadata": {},
   "outputs": [],
   "source": [
    "import math\n",
    "import pandas as pd\n",
    "from time import time\n",
    "import numpy as np"
   ]
  },
  {
   "cell_type": "code",
   "execution_count": 33,
   "metadata": {},
   "outputs": [],
   "source": [
    "def colorful_j(n):\n",
    "    test_str = str(n)\n",
    "    res = [test_str[i:j] for i in range(len(test_str)) for j in range(i + 1, len(test_str) + 1)]\n",
    "    my_set = set()\n",
    "    for s in res:\n",
    "        a = np.prod((int(i) for i in list(s)))\n",
    "        if a in my_set:\n",
    "            return 0\n",
    "        my_set.add(a)\n",
    "    return 1"
   ]
  },
  {
   "cell_type": "code",
   "execution_count": 34,
   "metadata": {},
   "outputs": [],
   "source": [
    "def colorful_l(num):\n",
    "    num_list = [int(n) for n in list(str(num))]\n",
    "    n = len(num_list)\n",
    "    if n != len(set(num_list)):\n",
    "        return 0\n",
    "    subsets = [num_list[i:j+1] for i in range(0,n) for j in range(i, n)]\n",
    "    prods = [np.prod(x) for x in subsets]\n",
    "    if len(prods) != len(set(prods)):\n",
    "        return 0\n",
    "    return 1"
   ]
  },
  {
   "cell_type": "code",
   "execution_count": 39,
   "metadata": {},
   "outputs": [],
   "source": [
    "test_set = [23, 24, 25, 123, 145, 124, 12356, 12356, 1234835968716, 123456789, 987654321, 14782956, 12345]"
   ]
  },
  {
   "cell_type": "code",
   "execution_count": 40,
   "metadata": {},
   "outputs": [],
   "source": [
    "test_results = pd.DataFrame(columns = ['J', 'L', 'J_time', 'L_time'])"
   ]
  },
  {
   "cell_type": "code",
   "execution_count": 41,
   "metadata": {},
   "outputs": [],
   "source": [
    "for test in test_set:\n",
    "    t1 = time()\n",
    "    j = colorful_j(test)\n",
    "    t2 = time()\n",
    "    j_time = t2 - t1\n",
    "    \n",
    "    t1 = time()\n",
    "    l = colorful_l(test)\n",
    "    t2 = time()\n",
    "    l_time = t2 - t1\n",
    "    test_results.loc[len(test_results)] = [j, l, j_time, l_time]"
   ]
  },
  {
   "cell_type": "code",
   "execution_count": 42,
   "metadata": {},
   "outputs": [
    {
     "name": "stdout",
     "output_type": "stream",
     "text": [
      "      J    L  J_time  L_time\n",
      "0   1.0  1.0   0.000   0.000\n",
      "1   1.0  1.0   0.000   0.000\n",
      "2   1.0  1.0   0.000   0.001\n",
      "3   1.0  0.0   0.000   0.000\n",
      "4   1.0  0.0   0.000   0.001\n",
      "5   1.0  0.0   0.000   0.000\n",
      "6   1.0  0.0   0.000   0.001\n",
      "7   1.0  0.0   0.000   0.000\n",
      "8   1.0  0.0   0.002   0.000\n",
      "9   1.0  0.0   0.001   0.000\n",
      "10  1.0  0.0   0.000   0.001\n",
      "11  1.0  0.0   0.000   0.000\n",
      "12  1.0  0.0   0.001   0.000\n"
     ]
    }
   ],
   "source": [
    "print(test_results.to_string())"
   ]
  },
  {
   "cell_type": "code",
   "execution_count": 43,
   "metadata": {},
   "outputs": [
    {
     "data": {
      "text/plain": [
       "0.00030770668616661657"
      ]
     },
     "execution_count": 43,
     "metadata": {},
     "output_type": "execute_result"
    }
   ],
   "source": [
    "test_results['J_time'].mean()"
   ]
  },
  {
   "cell_type": "code",
   "execution_count": 44,
   "metadata": {},
   "outputs": [
    {
     "data": {
      "text/plain": [
       "0.00030767000638521637"
      ]
     },
     "execution_count": 44,
     "metadata": {},
     "output_type": "execute_result"
    }
   ],
   "source": [
    "test_results['L_time'].mean()"
   ]
  },
  {
   "cell_type": "code",
   "execution_count": 45,
   "metadata": {},
   "outputs": [
    {
     "data": {
      "text/plain": [
       "3.6679781400194515e-08"
      ]
     },
     "execution_count": 45,
     "metadata": {},
     "output_type": "execute_result"
    }
   ],
   "source": [
    "test_results['J_time'].mean() - test_results['L_time'].mean()"
   ]
  },
  {
   "cell_type": "code",
   "execution_count": 67,
   "metadata": {},
   "outputs": [],
   "source": [
    "def wait_calc(name, agents_n, customers):\n",
    "    if agents_n < 1: return \"Welcome to the DMV\"\n",
    "    line = sorted(customers.split(' ') + [name])\n",
    "    return ((line.index(name) + 1)//agents_n + min(agents_n - 1, 1)) * 20"
   ]
  },
  {
   "cell_type": "code",
   "execution_count": 70,
   "metadata": {},
   "outputs": [],
   "source": [
    "name = 'Eric'\n",
    "n = 1\n",
    "names = 'Adam Caroline Rebecca Frank'"
   ]
  },
  {
   "cell_type": "code",
   "execution_count": 71,
   "metadata": {},
   "outputs": [
    {
     "data": {
      "text/plain": [
       "60"
      ]
     },
     "execution_count": 71,
     "metadata": {},
     "output_type": "execute_result"
    }
   ],
   "source": [
    "wait_calc(name, n, names)"
   ]
  },
  {
   "cell_type": "code",
   "execution_count": 60,
   "metadata": {},
   "outputs": [
    {
     "data": {
      "text/plain": [
       "3"
      ]
     },
     "execution_count": 60,
     "metadata": {},
     "output_type": "execute_result"
    }
   ],
   "source": [
    "3//1"
   ]
  },
  {
   "cell_type": "code",
   "execution_count": null,
   "metadata": {},
   "outputs": [],
   "source": []
  }
 ],
 "metadata": {
  "kernelspec": {
   "display_name": "Python 3",
   "language": "python",
   "name": "python3"
  },
  "language_info": {
   "codemirror_mode": {
    "name": "ipython",
    "version": 3
   },
   "file_extension": ".py",
   "mimetype": "text/x-python",
   "name": "python",
   "nbconvert_exporter": "python",
   "pygments_lexer": "ipython3",
   "version": "3.7.6"
  }
 },
 "nbformat": 4,
 "nbformat_minor": 2
}
